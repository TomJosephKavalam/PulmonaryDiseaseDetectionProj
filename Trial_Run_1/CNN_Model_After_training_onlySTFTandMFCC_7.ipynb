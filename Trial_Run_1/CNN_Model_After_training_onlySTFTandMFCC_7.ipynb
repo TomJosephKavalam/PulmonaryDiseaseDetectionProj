{
 "cells": [
  {
   "cell_type": "code",
   "execution_count": 2,
   "id": "3f9ab4c2",
   "metadata": {},
   "outputs": [],
   "source": [
    "import pandas as pd\n",
    "import os\n",
    "import librosa\n",
    "import librosa.display\n",
    "import matplotlib.pyplot as plt\n",
    "from sklearn.preprocessing import normalize\n",
    "import warnings\n",
    "warnings.filterwarnings('ignore')\n",
    "import numpy as np\n",
    "import pickle\n",
    "import joblib\n",
    "from sklearn.model_selection import train_test_split\n",
    "from tensorflow.keras import models, layers\n",
    "import tensorflow as tf"
   ]
  },
  {
   "cell_type": "markdown",
   "id": "e90dd2d0",
   "metadata": {},
   "source": [
    "Class and Class ID :-\n",
    "1. Asthma\n",
    "2. Bronchiectasis\n",
    "3. Bronchiolitis\n",
    "4. Copd\n",
    "5. Healthy\n",
    "6. LRTI\n",
    "7. Pneumonia\n",
    "8. URTI"
   ]
  },
  {
   "cell_type": "code",
   "execution_count": 41,
   "id": "b23dd6b3",
   "metadata": {},
   "outputs": [],
   "source": [
    "X=np.load('X-STFTandMFCC-7.npy')"
   ]
  },
  {
   "cell_type": "code",
   "execution_count": 42,
   "id": "921815db",
   "metadata": {},
   "outputs": [],
   "source": [
    "y=np.load('y-STFTandMFCC-7.npy')"
   ]
  },
  {
   "cell_type": "code",
   "execution_count": 43,
   "id": "11b88c9d",
   "metadata": {},
   "outputs": [
    {
     "name": "stdout",
     "output_type": "stream",
     "text": [
      "(665, 128, 372, 2) (222, 128, 372, 2)\n"
     ]
    }
   ],
   "source": [
    "X_train, X_test, y_train, y_test = train_test_split(X, y, test_size=0.25, random_state=123, stratify=y)\n",
    "print(X_train.shape,X_test.shape)"
   ]
  },
  {
   "cell_type": "code",
   "execution_count": 44,
   "id": "6fccd966",
   "metadata": {},
   "outputs": [],
   "source": [
    "X_train = np.array((X_train-np.min(X_train))/(np.max(X_train)-np.min(X_train)))\n",
    "X_test = np.array((X_test-np.min(X_test))/(np.max(X_test)-np.min(X_test)))\n",
    "X_train = X_train/np.std(X_train)\n",
    "X_test = X_test/np.std(X_test)\n",
    "y_train = np.array(y_train)\n",
    "y_test = np.array(y_test)"
   ]
  },
  {
   "cell_type": "code",
   "execution_count": 45,
   "id": "d83951a4",
   "metadata": {},
   "outputs": [
    {
     "name": "stdout",
     "output_type": "stream",
     "text": [
      "(498, 128, 372, 2) (222, 128, 372, 2) (167, 128, 372, 2) 498 222 167\n"
     ]
    }
   ],
   "source": [
    "X_train, X_val, y_train, y_val = train_test_split(X_train, y_train, test_size=0.25, random_state=123)\n",
    "print(X_train.shape, X_test.shape, X_val.shape, len(y_train), len(y_test), len(y_val))"
   ]
  },
  {
   "cell_type": "code",
   "execution_count": 59,
   "id": "1fdf2bd8",
   "metadata": {},
   "outputs": [
    {
     "data": {
      "text/plain": [
       "array([[[[27.26535 ,  9.915552],\n",
       "         [27.369642, 10.276651],\n",
       "         [27.36838 , 10.691795],\n",
       "         ...,\n",
       "         [27.281052, 10.064873],\n",
       "         [27.329102, 10.489162],\n",
       "         [27.284727, 10.53682 ]],\n",
       "\n",
       "        [[27.265686, 27.79262 ],\n",
       "         [27.323149, 28.282663],\n",
       "         [27.328209, 28.754782],\n",
       "         ...,\n",
       "         [27.272785, 27.987152],\n",
       "         [27.358425, 28.58574 ],\n",
       "         [27.284548, 28.63205 ]],\n",
       "\n",
       "        [[27.26581 , 27.73339 ],\n",
       "         [27.270576, 28.166327],\n",
       "         [27.270401, 28.353273],\n",
       "         ...,\n",
       "         [27.264929, 27.881805],\n",
       "         [27.360077, 28.473585],\n",
       "         [27.33933 , 28.463585]],\n",
       "\n",
       "        ...,\n",
       "\n",
       "        [[27.264526, 27.24667 ],\n",
       "         [27.264526, 27.224293],\n",
       "         [27.264526, 27.244139],\n",
       "         ...,\n",
       "         [27.264526, 27.236202],\n",
       "         [27.264526, 27.251991],\n",
       "         [27.264526, 27.2316  ]],\n",
       "\n",
       "        [[27.264526, 27.251877],\n",
       "         [27.264526, 27.228113],\n",
       "         [27.264526, 27.264217],\n",
       "         ...,\n",
       "         [27.264526, 27.24312 ],\n",
       "         [27.264526, 27.257706],\n",
       "         [27.264526, 27.2313  ]],\n",
       "\n",
       "        [[27.264526, 27.257996],\n",
       "         [27.264526, 27.242786],\n",
       "         [27.264526, 27.270931],\n",
       "         ...,\n",
       "         [27.264526, 27.252975],\n",
       "         [27.264526, 27.26171 ],\n",
       "         [27.264526, 27.24374 ]]],\n",
       "\n",
       "\n",
       "       [[[27.264526,  5.241158],\n",
       "         [27.264526,  5.241158],\n",
       "         [27.264526,  5.241158],\n",
       "         ...,\n",
       "         [27.346582,  9.833119],\n",
       "         [27.290949,  9.668455],\n",
       "         [27.3848  ,  9.686486]],\n",
       "\n",
       "        [[27.264526, 27.264526],\n",
       "         [27.264526, 27.264526],\n",
       "         [27.264526, 27.264526],\n",
       "         ...,\n",
       "         [27.280294, 30.601421],\n",
       "         [27.285772, 30.49321 ],\n",
       "         [27.369535, 30.513063]],\n",
       "\n",
       "        [[27.264526, 27.264526],\n",
       "         [27.264526, 27.264526],\n",
       "         [27.264526, 27.264526],\n",
       "         ...,\n",
       "         [27.337381, 26.972137],\n",
       "         [27.290588, 27.072935],\n",
       "         [27.329884, 27.246021]],\n",
       "\n",
       "        ...,\n",
       "\n",
       "        [[27.264526, 27.264526],\n",
       "         [27.264526, 27.264526],\n",
       "         [27.264526, 27.264526],\n",
       "         ...,\n",
       "         [27.264526, 27.157856],\n",
       "         [27.264526, 27.210432],\n",
       "         [27.264526, 27.181019]],\n",
       "\n",
       "        [[27.264526, 27.264526],\n",
       "         [27.264526, 27.264526],\n",
       "         [27.264526, 27.264526],\n",
       "         ...,\n",
       "         [27.264526, 27.309204],\n",
       "         [27.264526, 27.321974],\n",
       "         [27.264526, 27.314451]],\n",
       "\n",
       "        [[27.264526, 27.264526],\n",
       "         [27.264526, 27.264526],\n",
       "         [27.264526, 27.264526],\n",
       "         ...,\n",
       "         [27.264526, 27.380482],\n",
       "         [27.264526, 27.338512],\n",
       "         [27.264526, 27.335905]]],\n",
       "\n",
       "\n",
       "       [[[27.264526,  9.568537],\n",
       "         [27.264526,  9.568537],\n",
       "         [27.264526,  9.568537],\n",
       "         ...,\n",
       "         [27.50883 , 14.086904],\n",
       "         [27.814981, 14.04612 ],\n",
       "         [27.499716, 13.722014]],\n",
       "\n",
       "        [[27.264526, 27.264526],\n",
       "         [27.264526, 27.264526],\n",
       "         [27.264526, 27.264526],\n",
       "         ...,\n",
       "         [27.378965, 28.39823 ],\n",
       "         [27.534416, 28.064842],\n",
       "         [27.372568, 28.024881]],\n",
       "\n",
       "        [[27.264526, 27.264526],\n",
       "         [27.264526, 27.264526],\n",
       "         [27.264526, 27.264526],\n",
       "         ...,\n",
       "         [27.31446 , 27.532642],\n",
       "         [27.404257, 27.411737],\n",
       "         [27.31804 , 27.549723]],\n",
       "\n",
       "        ...,\n",
       "\n",
       "        [[27.264526, 27.264526],\n",
       "         [27.264526, 27.264526],\n",
       "         [27.264526, 27.264526],\n",
       "         ...,\n",
       "         [27.264536, 27.131468],\n",
       "         [27.264532, 27.12957 ],\n",
       "         [27.264585, 27.129011]],\n",
       "\n",
       "        [[27.264526, 27.264526],\n",
       "         [27.264526, 27.264526],\n",
       "         [27.264526, 27.264526],\n",
       "         ...,\n",
       "         [27.264532, 27.28051 ],\n",
       "         [27.264532, 27.323217],\n",
       "         [27.264542, 27.293703]],\n",
       "\n",
       "        [[27.264526, 27.264526],\n",
       "         [27.264526, 27.264526],\n",
       "         [27.264526, 27.264526],\n",
       "         ...,\n",
       "         [27.264526, 27.41276 ],\n",
       "         [27.26453 , 27.382181],\n",
       "         [27.264532, 27.3881  ]]],\n",
       "\n",
       "\n",
       "       ...,\n",
       "\n",
       "\n",
       "       [[[27.264526,  9.247388],\n",
       "         [27.264526,  9.247388],\n",
       "         [27.264526,  9.247388],\n",
       "         ...,\n",
       "         [28.090542, 10.697317],\n",
       "         [27.657883, 10.632575],\n",
       "         [27.448473, 10.510838]],\n",
       "\n",
       "        [[27.264526, 27.264526],\n",
       "         [27.264526, 27.264526],\n",
       "         [27.264526, 27.264526],\n",
       "         ...,\n",
       "         [27.702562, 29.03042 ],\n",
       "         [27.465246, 28.83489 ],\n",
       "         [27.370571, 28.838219]],\n",
       "\n",
       "        [[27.264526, 27.264526],\n",
       "         [27.264526, 27.264526],\n",
       "         [27.264526, 27.264526],\n",
       "         ...,\n",
       "         [27.28686 , 28.431261],\n",
       "         [27.268684, 28.1463  ],\n",
       "         [27.274584, 28.38828 ]],\n",
       "\n",
       "        ...,\n",
       "\n",
       "        [[27.264526, 27.264526],\n",
       "         [27.264526, 27.264526],\n",
       "         [27.264526, 27.264526],\n",
       "         ...,\n",
       "         [27.26453 , 27.219858],\n",
       "         [27.264526, 27.219059],\n",
       "         [27.26453 , 27.234024]],\n",
       "\n",
       "        [[27.264526, 27.264526],\n",
       "         [27.264526, 27.264526],\n",
       "         [27.264526, 27.264526],\n",
       "         ...,\n",
       "         [27.264526, 27.285807],\n",
       "         [27.264526, 27.235825],\n",
       "         [27.264526, 27.245752]],\n",
       "\n",
       "        [[27.264526, 27.264526],\n",
       "         [27.264526, 27.264526],\n",
       "         [27.264526, 27.264526],\n",
       "         ...,\n",
       "         [27.264526, 27.31407 ],\n",
       "         [27.264526, 27.256214],\n",
       "         [27.264526, 27.260832]]],\n",
       "\n",
       "\n",
       "       [[[27.264526, 11.224792],\n",
       "         [27.264526, 11.224792],\n",
       "         [27.264526, 11.224792],\n",
       "         ...,\n",
       "         [27.592941, 13.987247],\n",
       "         [27.52639 , 14.114305],\n",
       "         [27.36805 , 13.905319]],\n",
       "\n",
       "        [[27.264526, 27.264526],\n",
       "         [27.264526, 27.264526],\n",
       "         [27.264526, 27.264526],\n",
       "         ...,\n",
       "         [27.688122, 29.573673],\n",
       "         [27.465185, 29.406328],\n",
       "         [27.417568, 29.566748]],\n",
       "\n",
       "        [[27.264526, 27.264526],\n",
       "         [27.264526, 27.264526],\n",
       "         [27.264526, 27.264526],\n",
       "         ...,\n",
       "         [27.42875 , 27.795012],\n",
       "         [27.333515, 27.658873],\n",
       "         [27.289202, 27.733776]],\n",
       "\n",
       "        ...,\n",
       "\n",
       "        [[27.264526, 27.264526],\n",
       "         [27.264526, 27.264526],\n",
       "         [27.264526, 27.264526],\n",
       "         ...,\n",
       "         [27.264542, 27.205137],\n",
       "         [27.264542, 27.164732],\n",
       "         [27.264536, 27.201197]],\n",
       "\n",
       "        [[27.264526, 27.264526],\n",
       "         [27.264526, 27.264526],\n",
       "         [27.264526, 27.264526],\n",
       "         ...,\n",
       "         [27.26453 , 27.307314],\n",
       "         [27.264526, 27.30001 ],\n",
       "         [27.26453 , 27.288883]],\n",
       "\n",
       "        [[27.264526, 27.264526],\n",
       "         [27.264526, 27.264526],\n",
       "         [27.264526, 27.264526],\n",
       "         ...,\n",
       "         [27.26453 , 27.310753],\n",
       "         [27.26453 , 27.359735],\n",
       "         [27.264526, 27.334564]]],\n",
       "\n",
       "\n",
       "       [[[27.298832, 12.220544],\n",
       "         [27.382559,  8.246629],\n",
       "         [27.286854,  8.170911],\n",
       "         ...,\n",
       "         [27.384008,  8.415747],\n",
       "         [27.37091 ,  8.473196],\n",
       "         [27.329098,  8.365937]],\n",
       "\n",
       "        [[27.291842, 28.307037],\n",
       "         [27.330795, 28.456432],\n",
       "         [27.278324, 27.956001],\n",
       "         ...,\n",
       "         [27.325485, 28.416315],\n",
       "         [27.318716, 28.58729 ],\n",
       "         [27.297874, 28.565504]],\n",
       "\n",
       "        [[27.27756 , 26.769796],\n",
       "         [27.274137, 28.34125 ],\n",
       "         [27.266731, 27.83618 ],\n",
       "         ...,\n",
       "         [27.266577, 28.178263],\n",
       "         [27.266804, 28.200857],\n",
       "         [27.26725 , 28.311462]],\n",
       "\n",
       "        ...,\n",
       "\n",
       "        [[27.264559, 27.163397],\n",
       "         [27.264526, 27.196676],\n",
       "         [27.264526, 27.181787],\n",
       "         ...,\n",
       "         [27.26453 , 27.205757],\n",
       "         [27.26453 , 27.163725],\n",
       "         [27.264526, 27.203953]],\n",
       "\n",
       "        [[27.264553, 27.300396],\n",
       "         [27.264526, 27.240913],\n",
       "         [27.264526, 27.250372],\n",
       "         ...,\n",
       "         [27.264526, 27.26133 ],\n",
       "         [27.264526, 27.272825],\n",
       "         [27.264526, 27.267122]],\n",
       "\n",
       "        [[27.264551, 27.378345],\n",
       "         [27.264526, 27.292702],\n",
       "         [27.264526, 27.286152],\n",
       "         ...,\n",
       "         [27.264526, 27.2811  ],\n",
       "         [27.264526, 27.311369],\n",
       "         [27.264526, 27.281147]]]], dtype=float32)"
      ]
     },
     "execution_count": 59,
     "metadata": {},
     "output_type": "execute_result"
    }
   ],
   "source": [
    "X_train"
   ]
  },
  {
   "cell_type": "markdown",
   "id": "3018ec50",
   "metadata": {},
   "source": [
    "<Font size = 6> <b> CNN Model </b></font>"
   ]
  },
  {
   "cell_type": "markdown",
   "id": "880d9248",
   "metadata": {},
   "source": [
    "<b> Complex model </b>"
   ]
  },
  {
   "cell_type": "code",
   "execution_count": 60,
   "id": "cdb542fd",
   "metadata": {},
   "outputs": [],
   "source": [
    "input_shape=(128,372,2)\n",
    "CNNmodel = models.Sequential()\n",
    "CNNmodel.add(layers.Conv2D(32, (3, 3), activation='relu', input_shape=input_shape))\n",
    "CNNmodel.add(layers.MaxPooling2D((2, 2)))\n",
    "CNNmodel.add(layers.Dropout(0.2))\n",
    "CNNmodel.add(layers.Conv2D(64, (3, 3), activation='relu'))\n",
    "CNNmodel.add(layers.MaxPooling2D((2, 2)))\n",
    "CNNmodel.add(layers.Dropout(0.2))\n",
    "CNNmodel.add(layers.Conv2D(64, (3, 3), activation='relu'))\n",
    "CNNmodel.add(layers.Flatten())\n",
    "CNNmodel.add(layers.Dense(64, activation='relu'))\n",
    "CNNmodel.add(layers.Dropout(0.2))\n",
    "CNNmodel.add(layers.Dense(32, activation='relu'))\n",
    "CNNmodel.add(layers.Dense(24, activation='softmax'))"
   ]
  },
  {
   "cell_type": "code",
   "execution_count": 61,
   "id": "6b0c8de8",
   "metadata": {},
   "outputs": [],
   "source": [
    "CNNmodel.compile(optimizer='adam',loss=tf.keras.losses.SparseCategoricalCrossentropy(from_logits=False),metrics=['accuracy'])"
   ]
  },
  {
   "cell_type": "markdown",
   "id": "bd291276",
   "metadata": {},
   "source": [
    "<b> Epoch = 5 </b>"
   ]
  },
  {
   "cell_type": "code",
   "execution_count": 62,
   "id": "76f2c56f",
   "metadata": {},
   "outputs": [
    {
     "name": "stdout",
     "output_type": "stream",
     "text": [
      "Epoch 1/5\n",
      "16/16 [==============================] - 8s 502ms/step - loss: 22.6600 - accuracy: 0.7992 - val_loss: 3.1488 - val_accuracy: 0.8982\n",
      "Epoch 2/5\n",
      "16/16 [==============================] - 8s 486ms/step - loss: 0.7992 - accuracy: 0.8916 - val_loss: 3.1192 - val_accuracy: 0.8982\n",
      "Epoch 3/5\n",
      "16/16 [==============================] - 8s 485ms/step - loss: 0.5915 - accuracy: 0.8936 - val_loss: 3.1065 - val_accuracy: 0.8982\n",
      "Epoch 4/5\n",
      "16/16 [==============================] - 8s 484ms/step - loss: 0.5855 - accuracy: 0.8916 - val_loss: 3.0951 - val_accuracy: 0.8982\n",
      "Epoch 5/5\n",
      "16/16 [==============================] - 8s 486ms/step - loss: 0.5905 - accuracy: 0.8916 - val_loss: 3.0843 - val_accuracy: 0.8982\n"
     ]
    }
   ],
   "source": [
    "history = CNNmodel.fit(X_train, y_train, epochs=5, validation_data= (X_val, y_val))"
   ]
  },
  {
   "cell_type": "markdown",
   "id": "edd07c67",
   "metadata": {},
   "source": [
    "<b> Epoch = 20 </b>"
   ]
  },
  {
   "cell_type": "code",
   "execution_count": 18,
   "id": "71b3ec2f",
   "metadata": {
    "collapsed": true
   },
   "outputs": [
    {
     "name": "stdout",
     "output_type": "stream",
     "text": [
      "Epoch 1/20\n",
      " 1/16 [>.............................] - ETA: 0s - loss: 0.4166 - accuracy: 0.9375"
     ]
    },
    {
     "ename": "KeyboardInterrupt",
     "evalue": "",
     "output_type": "error",
     "traceback": [
      "\u001b[1;31m---------------------------------------------------------------------------\u001b[0m",
      "\u001b[1;31mKeyboardInterrupt\u001b[0m                         Traceback (most recent call last)",
      "\u001b[1;32m<ipython-input-18-5dba2092e56c>\u001b[0m in \u001b[0;36m<module>\u001b[1;34m\u001b[0m\n\u001b[1;32m----> 1\u001b[1;33m \u001b[0mhistory\u001b[0m \u001b[1;33m=\u001b[0m \u001b[0mCNNmodel\u001b[0m\u001b[1;33m.\u001b[0m\u001b[0mfit\u001b[0m\u001b[1;33m(\u001b[0m\u001b[0mX_train\u001b[0m\u001b[1;33m,\u001b[0m \u001b[0my_train\u001b[0m\u001b[1;33m,\u001b[0m \u001b[0mepochs\u001b[0m\u001b[1;33m=\u001b[0m\u001b[1;36m20\u001b[0m\u001b[1;33m,\u001b[0m \u001b[0mvalidation_data\u001b[0m\u001b[1;33m=\u001b[0m \u001b[1;33m(\u001b[0m\u001b[0mX_val\u001b[0m\u001b[1;33m,\u001b[0m \u001b[0my_val\u001b[0m\u001b[1;33m)\u001b[0m\u001b[1;33m)\u001b[0m\u001b[1;33m\u001b[0m\u001b[1;33m\u001b[0m\u001b[0m\n\u001b[0m",
      "\u001b[1;32mC:\\ProgramData\\Anaconda3\\lib\\site-packages\\tensorflow\\python\\keras\\engine\\training.py\u001b[0m in \u001b[0;36m_method_wrapper\u001b[1;34m(self, *args, **kwargs)\u001b[0m\n\u001b[0;32m    106\u001b[0m   \u001b[1;32mdef\u001b[0m \u001b[0m_method_wrapper\u001b[0m\u001b[1;33m(\u001b[0m\u001b[0mself\u001b[0m\u001b[1;33m,\u001b[0m \u001b[1;33m*\u001b[0m\u001b[0margs\u001b[0m\u001b[1;33m,\u001b[0m \u001b[1;33m**\u001b[0m\u001b[0mkwargs\u001b[0m\u001b[1;33m)\u001b[0m\u001b[1;33m:\u001b[0m\u001b[1;33m\u001b[0m\u001b[1;33m\u001b[0m\u001b[0m\n\u001b[0;32m    107\u001b[0m     \u001b[1;32mif\u001b[0m \u001b[1;32mnot\u001b[0m \u001b[0mself\u001b[0m\u001b[1;33m.\u001b[0m\u001b[0m_in_multi_worker_mode\u001b[0m\u001b[1;33m(\u001b[0m\u001b[1;33m)\u001b[0m\u001b[1;33m:\u001b[0m  \u001b[1;31m# pylint: disable=protected-access\u001b[0m\u001b[1;33m\u001b[0m\u001b[1;33m\u001b[0m\u001b[0m\n\u001b[1;32m--> 108\u001b[1;33m       \u001b[1;32mreturn\u001b[0m \u001b[0mmethod\u001b[0m\u001b[1;33m(\u001b[0m\u001b[0mself\u001b[0m\u001b[1;33m,\u001b[0m \u001b[1;33m*\u001b[0m\u001b[0margs\u001b[0m\u001b[1;33m,\u001b[0m \u001b[1;33m**\u001b[0m\u001b[0mkwargs\u001b[0m\u001b[1;33m)\u001b[0m\u001b[1;33m\u001b[0m\u001b[1;33m\u001b[0m\u001b[0m\n\u001b[0m\u001b[0;32m    109\u001b[0m \u001b[1;33m\u001b[0m\u001b[0m\n\u001b[0;32m    110\u001b[0m     \u001b[1;31m# Running inside `run_distribute_coordinator` already.\u001b[0m\u001b[1;33m\u001b[0m\u001b[1;33m\u001b[0m\u001b[1;33m\u001b[0m\u001b[0m\n",
      "\u001b[1;32mC:\\ProgramData\\Anaconda3\\lib\\site-packages\\tensorflow\\python\\keras\\engine\\training.py\u001b[0m in \u001b[0;36mfit\u001b[1;34m(self, x, y, batch_size, epochs, verbose, callbacks, validation_split, validation_data, shuffle, class_weight, sample_weight, initial_epoch, steps_per_epoch, validation_steps, validation_batch_size, validation_freq, max_queue_size, workers, use_multiprocessing)\u001b[0m\n\u001b[0;32m   1096\u001b[0m                 batch_size=batch_size):\n\u001b[0;32m   1097\u001b[0m               \u001b[0mcallbacks\u001b[0m\u001b[1;33m.\u001b[0m\u001b[0mon_train_batch_begin\u001b[0m\u001b[1;33m(\u001b[0m\u001b[0mstep\u001b[0m\u001b[1;33m)\u001b[0m\u001b[1;33m\u001b[0m\u001b[1;33m\u001b[0m\u001b[0m\n\u001b[1;32m-> 1098\u001b[1;33m               \u001b[0mtmp_logs\u001b[0m \u001b[1;33m=\u001b[0m \u001b[0mtrain_function\u001b[0m\u001b[1;33m(\u001b[0m\u001b[0miterator\u001b[0m\u001b[1;33m)\u001b[0m\u001b[1;33m\u001b[0m\u001b[1;33m\u001b[0m\u001b[0m\n\u001b[0m\u001b[0;32m   1099\u001b[0m               \u001b[1;32mif\u001b[0m \u001b[0mdata_handler\u001b[0m\u001b[1;33m.\u001b[0m\u001b[0mshould_sync\u001b[0m\u001b[1;33m:\u001b[0m\u001b[1;33m\u001b[0m\u001b[1;33m\u001b[0m\u001b[0m\n\u001b[0;32m   1100\u001b[0m                 \u001b[0mcontext\u001b[0m\u001b[1;33m.\u001b[0m\u001b[0masync_wait\u001b[0m\u001b[1;33m(\u001b[0m\u001b[1;33m)\u001b[0m\u001b[1;33m\u001b[0m\u001b[1;33m\u001b[0m\u001b[0m\n",
      "\u001b[1;32mC:\\ProgramData\\Anaconda3\\lib\\site-packages\\tensorflow\\python\\eager\\def_function.py\u001b[0m in \u001b[0;36m__call__\u001b[1;34m(self, *args, **kwds)\u001b[0m\n\u001b[0;32m    778\u001b[0m       \u001b[1;32melse\u001b[0m\u001b[1;33m:\u001b[0m\u001b[1;33m\u001b[0m\u001b[1;33m\u001b[0m\u001b[0m\n\u001b[0;32m    779\u001b[0m         \u001b[0mcompiler\u001b[0m \u001b[1;33m=\u001b[0m \u001b[1;34m\"nonXla\"\u001b[0m\u001b[1;33m\u001b[0m\u001b[1;33m\u001b[0m\u001b[0m\n\u001b[1;32m--> 780\u001b[1;33m         \u001b[0mresult\u001b[0m \u001b[1;33m=\u001b[0m \u001b[0mself\u001b[0m\u001b[1;33m.\u001b[0m\u001b[0m_call\u001b[0m\u001b[1;33m(\u001b[0m\u001b[1;33m*\u001b[0m\u001b[0margs\u001b[0m\u001b[1;33m,\u001b[0m \u001b[1;33m**\u001b[0m\u001b[0mkwds\u001b[0m\u001b[1;33m)\u001b[0m\u001b[1;33m\u001b[0m\u001b[1;33m\u001b[0m\u001b[0m\n\u001b[0m\u001b[0;32m    781\u001b[0m \u001b[1;33m\u001b[0m\u001b[0m\n\u001b[0;32m    782\u001b[0m       \u001b[0mnew_tracing_count\u001b[0m \u001b[1;33m=\u001b[0m \u001b[0mself\u001b[0m\u001b[1;33m.\u001b[0m\u001b[0m_get_tracing_count\u001b[0m\u001b[1;33m(\u001b[0m\u001b[1;33m)\u001b[0m\u001b[1;33m\u001b[0m\u001b[1;33m\u001b[0m\u001b[0m\n",
      "\u001b[1;32mC:\\ProgramData\\Anaconda3\\lib\\site-packages\\tensorflow\\python\\eager\\def_function.py\u001b[0m in \u001b[0;36m_call\u001b[1;34m(self, *args, **kwds)\u001b[0m\n\u001b[0;32m    805\u001b[0m       \u001b[1;31m# In this case we have created variables on the first call, so we run the\u001b[0m\u001b[1;33m\u001b[0m\u001b[1;33m\u001b[0m\u001b[1;33m\u001b[0m\u001b[0m\n\u001b[0;32m    806\u001b[0m       \u001b[1;31m# defunned version which is guaranteed to never create variables.\u001b[0m\u001b[1;33m\u001b[0m\u001b[1;33m\u001b[0m\u001b[1;33m\u001b[0m\u001b[0m\n\u001b[1;32m--> 807\u001b[1;33m       \u001b[1;32mreturn\u001b[0m \u001b[0mself\u001b[0m\u001b[1;33m.\u001b[0m\u001b[0m_stateless_fn\u001b[0m\u001b[1;33m(\u001b[0m\u001b[1;33m*\u001b[0m\u001b[0margs\u001b[0m\u001b[1;33m,\u001b[0m \u001b[1;33m**\u001b[0m\u001b[0mkwds\u001b[0m\u001b[1;33m)\u001b[0m  \u001b[1;31m# pylint: disable=not-callable\u001b[0m\u001b[1;33m\u001b[0m\u001b[1;33m\u001b[0m\u001b[0m\n\u001b[0m\u001b[0;32m    808\u001b[0m     \u001b[1;32melif\u001b[0m \u001b[0mself\u001b[0m\u001b[1;33m.\u001b[0m\u001b[0m_stateful_fn\u001b[0m \u001b[1;32mis\u001b[0m \u001b[1;32mnot\u001b[0m \u001b[1;32mNone\u001b[0m\u001b[1;33m:\u001b[0m\u001b[1;33m\u001b[0m\u001b[1;33m\u001b[0m\u001b[0m\n\u001b[0;32m    809\u001b[0m       \u001b[1;31m# Release the lock early so that multiple threads can perform the call\u001b[0m\u001b[1;33m\u001b[0m\u001b[1;33m\u001b[0m\u001b[1;33m\u001b[0m\u001b[0m\n",
      "\u001b[1;32mC:\\ProgramData\\Anaconda3\\lib\\site-packages\\tensorflow\\python\\eager\\function.py\u001b[0m in \u001b[0;36m__call__\u001b[1;34m(self, *args, **kwargs)\u001b[0m\n\u001b[0;32m   2827\u001b[0m     \u001b[1;32mwith\u001b[0m \u001b[0mself\u001b[0m\u001b[1;33m.\u001b[0m\u001b[0m_lock\u001b[0m\u001b[1;33m:\u001b[0m\u001b[1;33m\u001b[0m\u001b[1;33m\u001b[0m\u001b[0m\n\u001b[0;32m   2828\u001b[0m       \u001b[0mgraph_function\u001b[0m\u001b[1;33m,\u001b[0m \u001b[0margs\u001b[0m\u001b[1;33m,\u001b[0m \u001b[0mkwargs\u001b[0m \u001b[1;33m=\u001b[0m \u001b[0mself\u001b[0m\u001b[1;33m.\u001b[0m\u001b[0m_maybe_define_function\u001b[0m\u001b[1;33m(\u001b[0m\u001b[0margs\u001b[0m\u001b[1;33m,\u001b[0m \u001b[0mkwargs\u001b[0m\u001b[1;33m)\u001b[0m\u001b[1;33m\u001b[0m\u001b[1;33m\u001b[0m\u001b[0m\n\u001b[1;32m-> 2829\u001b[1;33m     \u001b[1;32mreturn\u001b[0m \u001b[0mgraph_function\u001b[0m\u001b[1;33m.\u001b[0m\u001b[0m_filtered_call\u001b[0m\u001b[1;33m(\u001b[0m\u001b[0margs\u001b[0m\u001b[1;33m,\u001b[0m \u001b[0mkwargs\u001b[0m\u001b[1;33m)\u001b[0m  \u001b[1;31m# pylint: disable=protected-access\u001b[0m\u001b[1;33m\u001b[0m\u001b[1;33m\u001b[0m\u001b[0m\n\u001b[0m\u001b[0;32m   2830\u001b[0m \u001b[1;33m\u001b[0m\u001b[0m\n\u001b[0;32m   2831\u001b[0m   \u001b[1;33m@\u001b[0m\u001b[0mproperty\u001b[0m\u001b[1;33m\u001b[0m\u001b[1;33m\u001b[0m\u001b[0m\n",
      "\u001b[1;32mC:\\ProgramData\\Anaconda3\\lib\\site-packages\\tensorflow\\python\\eager\\function.py\u001b[0m in \u001b[0;36m_filtered_call\u001b[1;34m(self, args, kwargs, cancellation_manager)\u001b[0m\n\u001b[0;32m   1841\u001b[0m       \u001b[0;31m`\u001b[0m\u001b[0margs\u001b[0m\u001b[0;31m`\u001b[0m \u001b[1;32mand\u001b[0m\u001b[0;31m \u001b[0m\u001b[0;31m`\u001b[0m\u001b[0mkwargs\u001b[0m\u001b[0;31m`\u001b[0m\u001b[1;33m.\u001b[0m\u001b[1;33m\u001b[0m\u001b[1;33m\u001b[0m\u001b[0m\n\u001b[0;32m   1842\u001b[0m     \"\"\"\n\u001b[1;32m-> 1843\u001b[1;33m     return self._call_flat(\n\u001b[0m\u001b[0;32m   1844\u001b[0m         [t for t in nest.flatten((args, kwargs), expand_composites=True)\n\u001b[0;32m   1845\u001b[0m          if isinstance(t, (ops.Tensor,\n",
      "\u001b[1;32mC:\\ProgramData\\Anaconda3\\lib\\site-packages\\tensorflow\\python\\eager\\function.py\u001b[0m in \u001b[0;36m_call_flat\u001b[1;34m(self, args, captured_inputs, cancellation_manager)\u001b[0m\n\u001b[0;32m   1921\u001b[0m         and executing_eagerly):\n\u001b[0;32m   1922\u001b[0m       \u001b[1;31m# No tape is watching; skip to running the function.\u001b[0m\u001b[1;33m\u001b[0m\u001b[1;33m\u001b[0m\u001b[1;33m\u001b[0m\u001b[0m\n\u001b[1;32m-> 1923\u001b[1;33m       return self._build_call_outputs(self._inference_function.call(\n\u001b[0m\u001b[0;32m   1924\u001b[0m           ctx, args, cancellation_manager=cancellation_manager))\n\u001b[0;32m   1925\u001b[0m     forward_backward = self._select_forward_and_backward_functions(\n",
      "\u001b[1;32mC:\\ProgramData\\Anaconda3\\lib\\site-packages\\tensorflow\\python\\eager\\function.py\u001b[0m in \u001b[0;36mcall\u001b[1;34m(self, ctx, args, cancellation_manager)\u001b[0m\n\u001b[0;32m    543\u001b[0m       \u001b[1;32mwith\u001b[0m \u001b[0m_InterpolateFunctionError\u001b[0m\u001b[1;33m(\u001b[0m\u001b[0mself\u001b[0m\u001b[1;33m)\u001b[0m\u001b[1;33m:\u001b[0m\u001b[1;33m\u001b[0m\u001b[1;33m\u001b[0m\u001b[0m\n\u001b[0;32m    544\u001b[0m         \u001b[1;32mif\u001b[0m \u001b[0mcancellation_manager\u001b[0m \u001b[1;32mis\u001b[0m \u001b[1;32mNone\u001b[0m\u001b[1;33m:\u001b[0m\u001b[1;33m\u001b[0m\u001b[1;33m\u001b[0m\u001b[0m\n\u001b[1;32m--> 545\u001b[1;33m           outputs = execute.execute(\n\u001b[0m\u001b[0;32m    546\u001b[0m               \u001b[0mstr\u001b[0m\u001b[1;33m(\u001b[0m\u001b[0mself\u001b[0m\u001b[1;33m.\u001b[0m\u001b[0msignature\u001b[0m\u001b[1;33m.\u001b[0m\u001b[0mname\u001b[0m\u001b[1;33m)\u001b[0m\u001b[1;33m,\u001b[0m\u001b[1;33m\u001b[0m\u001b[1;33m\u001b[0m\u001b[0m\n\u001b[0;32m    547\u001b[0m               \u001b[0mnum_outputs\u001b[0m\u001b[1;33m=\u001b[0m\u001b[0mself\u001b[0m\u001b[1;33m.\u001b[0m\u001b[0m_num_outputs\u001b[0m\u001b[1;33m,\u001b[0m\u001b[1;33m\u001b[0m\u001b[1;33m\u001b[0m\u001b[0m\n",
      "\u001b[1;32mC:\\ProgramData\\Anaconda3\\lib\\site-packages\\tensorflow\\python\\eager\\execute.py\u001b[0m in \u001b[0;36mquick_execute\u001b[1;34m(op_name, num_outputs, inputs, attrs, ctx, name)\u001b[0m\n\u001b[0;32m     57\u001b[0m   \u001b[1;32mtry\u001b[0m\u001b[1;33m:\u001b[0m\u001b[1;33m\u001b[0m\u001b[1;33m\u001b[0m\u001b[0m\n\u001b[0;32m     58\u001b[0m     \u001b[0mctx\u001b[0m\u001b[1;33m.\u001b[0m\u001b[0mensure_initialized\u001b[0m\u001b[1;33m(\u001b[0m\u001b[1;33m)\u001b[0m\u001b[1;33m\u001b[0m\u001b[1;33m\u001b[0m\u001b[0m\n\u001b[1;32m---> 59\u001b[1;33m     tensors = pywrap_tfe.TFE_Py_Execute(ctx._handle, device_name, op_name,\n\u001b[0m\u001b[0;32m     60\u001b[0m                                         inputs, attrs, num_outputs)\n\u001b[0;32m     61\u001b[0m   \u001b[1;32mexcept\u001b[0m \u001b[0mcore\u001b[0m\u001b[1;33m.\u001b[0m\u001b[0m_NotOkStatusException\u001b[0m \u001b[1;32mas\u001b[0m \u001b[0me\u001b[0m\u001b[1;33m:\u001b[0m\u001b[1;33m\u001b[0m\u001b[1;33m\u001b[0m\u001b[0m\n",
      "\u001b[1;31mKeyboardInterrupt\u001b[0m: "
     ]
    }
   ],
   "source": [
    "history = CNNmodel.fit(X_train, y_train, epochs=20, validation_data= (X_val, y_val))"
   ]
  },
  {
   "cell_type": "markdown",
   "id": "9ebcffe9",
   "metadata": {},
   "source": [
    "<Font size = 5.5><b>For preventing overfit !!!!!</b></Font>"
   ]
  },
  {
   "cell_type": "code",
   "execution_count": 22,
   "id": "b8618a63",
   "metadata": {},
   "outputs": [
    {
     "name": "stdout",
     "output_type": "stream",
     "text": [
      "Model: \"sequential_2\"\n",
      "_________________________________________________________________\n",
      "Layer (type)                 Output Shape              Param #   \n",
      "=================================================================\n",
      "conv2d_4 (Conv2D)            (None, 126, 4798, 32)     608       \n",
      "_________________________________________________________________\n",
      "max_pooling2d_3 (MaxPooling2 (None, 63, 2399, 32)      0         \n",
      "_________________________________________________________________\n",
      "flatten_2 (Flatten)          (None, 4836384)           0         \n",
      "_________________________________________________________________\n",
      "dense_5 (Dense)              (None, 32)                154764320 \n",
      "_________________________________________________________________\n",
      "dense_6 (Dense)              (None, 24)                792       \n",
      "=================================================================\n",
      "Total params: 154,765,720\n",
      "Trainable params: 154,765,720\n",
      "Non-trainable params: 0\n",
      "_________________________________________________________________\n"
     ]
    }
   ],
   "source": [
    "input_shape=(128,4800,2)\n",
    "CNNmodel = models.Sequential()\n",
    "CNNmodel.add(layers.Conv2D(32, (3, 3), activation='relu', input_shape=input_shape))\n",
    "CNNmodel.add(layers.MaxPooling2D((2, 2)))\n",
    "CNNmodel.add(layers.Flatten())\n",
    "CNNmodel.add(layers.Dense(32, activation='relu'))\n",
    "CNNmodel.add(layers.Dense(24, activation='softmax'))\n",
    "CNNmodel.summary()"
   ]
  },
  {
   "cell_type": "code",
   "execution_count": 23,
   "id": "64301e98",
   "metadata": {},
   "outputs": [],
   "source": [
    "CNNmodel.compile(optimizer='adam',loss=tf.keras.losses.SparseCategoricalCrossentropy(from_logits=False),metrics=['accuracy'])"
   ]
  },
  {
   "cell_type": "markdown",
   "id": "e46459f2",
   "metadata": {},
   "source": [
    "<b> Epoch = 5 (decreasing overfitting) </b>"
   ]
  },
  {
   "cell_type": "code",
   "execution_count": 24,
   "id": "5bf4f1c2",
   "metadata": {},
   "outputs": [
    {
     "name": "stdout",
     "output_type": "stream",
     "text": [
      "Epoch 1/5\n",
      "16/16 [==============================] - 44s 3s/step - loss: 5724.6665 - accuracy: 0.7791 - val_loss: 3560.1812 - val_accuracy: 0.8982\n",
      "Epoch 2/5\n",
      "16/16 [==============================] - 44s 3s/step - loss: 2139.6792 - accuracy: 0.6506 - val_loss: 726.4044 - val_accuracy: 0.8982\n",
      "Epoch 3/5\n",
      "16/16 [==============================] - 45s 3s/step - loss: 497.7047 - accuracy: 0.8394 - val_loss: 253.7181 - val_accuracy: 0.8982\n",
      "Epoch 4/5\n",
      "16/16 [==============================] - 43s 3s/step - loss: 81.9877 - accuracy: 0.4699 - val_loss: 2.5993 - val_accuracy: 0.6048\n",
      "Epoch 5/5\n",
      "16/16 [==============================] - 42s 3s/step - loss: 1.9614 - accuracy: 0.8614 - val_loss: 1.5412 - val_accuracy: 0.8982\n"
     ]
    }
   ],
   "source": [
    "history = CNNmodel.fit(X_train, y_train, epochs=5, validation_data= (X_val, y_val))"
   ]
  },
  {
   "cell_type": "markdown",
   "id": "6fb54b4b",
   "metadata": {},
   "source": [
    " <b>Epoch = 20 (decreasing overfitting) </b>"
   ]
  },
  {
   "cell_type": "code",
   "execution_count": 27,
   "id": "3e8fb063",
   "metadata": {
    "collapsed": true
   },
   "outputs": [
    {
     "name": "stdout",
     "output_type": "stream",
     "text": [
      "Epoch 1/20\n",
      "16/16 [==============================] - 230s 14s/step - loss: 5213.9009 - accuracy: 0.5502 - val_loss: 2017.5857 - val_accuracy: 0.8982 - ETA: 3:52 - loss: 12291.8154\n",
      "Epoch 2/20\n",
      "16/16 [==============================] - 90s 6s/step - loss: 960.8845 - accuracy: 0.8916 - val_loss: 1210.3083 - val_accuracy: 0.0000e+00\n",
      "Epoch 3/20\n",
      "16/16 [==============================] - 66s 4s/step - loss: 95.8411 - accuracy: 0.1426 - val_loss: 3.1542 - val_accuracy: 0.0359\n",
      "Epoch 4/20\n",
      "16/16 [==============================] - 50s 3s/step - loss: 3.1363 - accuracy: 0.1406 - val_loss: 3.1181 - val_accuracy: 0.8982\n",
      "Epoch 5/20\n",
      "16/16 [==============================] - 50s 3s/step - loss: 3.1034 - accuracy: 0.8916 - val_loss: 3.0862 - val_accuracy: 0.8982\n",
      "Epoch 6/20\n",
      "16/16 [==============================] - 50s 3s/step - loss: 3.0724 - accuracy: 0.8916 - val_loss: 3.0558 - val_accuracy: 0.8982\n",
      "Epoch 7/20\n",
      "16/16 [==============================] - 51s 3s/step - loss: 3.0428 - accuracy: 0.8916 - val_loss: 3.0267 - val_accuracy: 0.8982\n",
      "Epoch 8/20\n",
      "16/16 [==============================] - 50s 3s/step - loss: 3.0141 - accuracy: 0.8916 - val_loss: 2.9983 - val_accuracy: 0.8982\n",
      "Epoch 9/20\n",
      "16/16 [==============================] - 50s 3s/step - loss: 2.9862 - accuracy: 0.8916 - val_loss: 2.9705 - val_accuracy: 0.8982\n",
      "Epoch 10/20\n",
      "16/16 [==============================] - 50s 3s/step - loss: 2.9587 - accuracy: 0.8916 - val_loss: 2.9432 - val_accuracy: 0.8982\n",
      "Epoch 11/20\n",
      "16/16 [==============================] - 50s 3s/step - loss: 2.9318 - accuracy: 0.8916 - val_loss: 2.9161 - val_accuracy: 0.8982\n",
      "Epoch 12/20\n",
      "16/16 [==============================] - 50s 3s/step - loss: 2.9051 - accuracy: 0.8916 - val_loss: 2.8894 - val_accuracy: 0.8982\n",
      "Epoch 13/20\n",
      "16/16 [==============================] - 50s 3s/step - loss: 2.8786 - accuracy: 0.8916 - val_loss: 2.8632 - val_accuracy: 0.8982\n",
      "Epoch 14/20\n",
      "16/16 [==============================] - 51s 3s/step - loss: 2.8525 - accuracy: 0.8916 - val_loss: 2.8370 - val_accuracy: 0.8982\n",
      "Epoch 15/20\n",
      "16/16 [==============================] - 50s 3s/step - loss: 2.8266 - accuracy: 0.8916 - val_loss: 2.8109 - val_accuracy: 0.8982\n",
      "Epoch 16/20\n",
      "16/16 [==============================] - 50s 3s/step - loss: 2.8008 - accuracy: 0.8916 - val_loss: 2.7852 - val_accuracy: 0.8982\n",
      "Epoch 17/20\n",
      "16/16 [==============================] - 50s 3s/step - loss: 2.7753 - accuracy: 0.8916 - val_loss: 2.7595 - val_accuracy: 0.8982\n",
      "Epoch 18/20\n",
      "16/16 [==============================] - 49s 3s/step - loss: 2.7498 - accuracy: 0.8916 - val_loss: 2.7342 - val_accuracy: 0.8982\n",
      "Epoch 19/20\n",
      "16/16 [==============================] - 50s 3s/step - loss: 2.7246 - accuracy: 0.8916 - val_loss: 2.7089 - val_accuracy: 0.8982\n",
      "Epoch 20/20\n",
      "16/16 [==============================] - 48s 3s/step - loss: 2.6995 - accuracy: 0.8916 - val_loss: 2.6836 - val_accuracy: 0.8982\n"
     ]
    }
   ],
   "source": [
    "history = CNNmodel.fit(X_train, y_train, epochs=20, validation_data= (X_val, y_val))"
   ]
  },
  {
   "cell_type": "markdown",
   "id": "feb204ae",
   "metadata": {},
   "source": [
    "<b> For plotting</b>"
   ]
  },
  {
   "cell_type": "markdown",
   "id": "6b965d16",
   "metadata": {},
   "source": [
    "<b> Epoch = 5 (simpler model)</b>"
   ]
  },
  {
   "cell_type": "code",
   "execution_count": 32,
   "id": "b683cab1",
   "metadata": {},
   "outputs": [
    {
     "data": {
      "image/png": "[encoded data removed]",
      "text/plain": [
       "<Figure size 1080x360 with 2 Axes>"
      ]
     },
     "metadata": {
      "needs_background": "light"
     },
     "output_type": "display_data"
    }
   ],
   "source": [
    "history_dict=history.history\n",
    "loss_values=history_dict['loss']\n",
    "acc_values=history_dict['accuracy']\n",
    "val_loss_values = history_dict['val_loss']\n",
    "val_acc_values=history_dict['val_accuracy']\n",
    "epochs=range(1,6)\n",
    "fig,(ax1,ax2)=plt.subplots(1,2,figsize=(15,5))\n",
    "ax1.plot(epochs,loss_values,'bo',label='Training Loss')\n",
    "ax1.plot(epochs,val_loss_values,'orange', label='Validation Loss')\n",
    "ax1.set_title('Training and validation loss')\n",
    "ax1.set_xlabel('Epochs')\n",
    "ax1.set_ylabel('Loss')\n",
    "ax1.legend()\n",
    "ax2.plot(epochs,acc_values,'bo', label='Training accuracy')\n",
    "ax2.plot(epochs,val_acc_values,'orange',label='Validation accuracy')\n",
    "ax2.set_title('Training and validation accuracy')\n",
    "ax2.set_xlabel('Epochs')\n",
    "ax2.set_ylabel('Accuracy')\n",
    "ax2.legend()\n",
    "plt.show()"
   ]
  },
  {
   "cell_type": "code",
   "execution_count": 13,
   "id": "211c831a",
   "metadata": {},
   "outputs": [],
   "source": [
    "# demonstration of calculating metrics for a neural network model using sklearn\n",
    "from sklearn.datasets import make_circles\n",
    "from sklearn.metrics import accuracy_score\n",
    "from sklearn.metrics import precision_score\n",
    "from sklearn.metrics import recall_score\n",
    "from sklearn.metrics import f1_score\n",
    "from sklearn.metrics import cohen_kappa_score\n",
    "from sklearn.metrics import roc_auc_score\n",
    "from sklearn.metrics import confusion_matrix"
   ]
  },
  {
   "cell_type": "code",
   "execution_count": 26,
   "id": "6be35675",
   "metadata": {},
   "outputs": [],
   "source": [
    "# predict probabilities for test set\n",
    "yhat_probs = CNNmodel.predict(X_test, verbose=0)\n",
    "# predict crisp classes for test set\n",
    "yhat_classes = CNNmodel.predict_classes(X_test, verbose=0)\n",
    "# reduce to 1d array\n",
    "yhat_probs = yhat_probs[:, 0]\n"
   ]
  },
  {
   "cell_type": "code",
   "execution_count": 27,
   "id": "646c355f",
   "metadata": {},
   "outputs": [
    {
     "data": {
      "text/plain": [
       "array([4, 4, 4, 4, 4, 4, 4, 4, 4, 4, 4, 4, 4, 4, 4, 4, 4, 4, 4, 4, 4, 4,\n",
       "       4, 4, 4, 4, 4, 4, 4, 4, 4, 4, 4, 4, 4, 4, 4, 4, 4, 4, 4, 4, 4, 4,\n",
       "       4, 4, 4, 4, 4, 4, 4, 4, 4, 4, 4, 4, 4, 4, 4, 4, 4, 4, 4, 4, 4, 4,\n",
       "       4, 4, 4, 4, 4, 4, 4, 4, 4, 4, 4, 4, 4, 4, 4, 4, 4, 4, 4, 4, 4, 4,\n",
       "       4, 4, 4, 4, 4, 4, 4, 4, 4, 4, 4, 4, 4, 4, 4, 4, 4, 4, 4, 4, 4, 4,\n",
       "       4, 4, 4, 4, 4, 4, 4, 4, 4, 4, 4, 4, 4, 4, 4, 4, 4, 4, 4, 4, 4, 4,\n",
       "       4, 4, 4, 4, 4, 4, 4, 4, 4, 4, 4, 4, 4, 4, 4, 4, 4, 4, 4, 4, 4, 4,\n",
       "       4, 4, 4, 4, 4, 4, 4, 4, 4, 4, 4, 4, 4, 4, 4, 4, 4, 4, 4, 4, 4, 4,\n",
       "       4, 4, 4, 4, 4, 4, 4, 4, 4, 4, 4, 4, 4, 4, 4, 4, 4, 4, 4, 4, 4, 4,\n",
       "       4, 4, 4, 4, 4, 4, 4, 4, 4, 4, 4, 4, 4, 4, 4, 4, 4, 4, 4, 4, 4, 4,\n",
       "       4, 4], dtype=int64)"
      ]
     },
     "metadata": {},
     "output_type": "display_data"
    },
    {
     "data": {
      "text/plain": [
       "array([4, 4, 4, 4, 4, 4, 4, 4, 6, 4, 4, 7, 8, 4, 4, 4, 4, 4, 4, 4, 4, 6,\n",
       "       8, 4, 4, 4, 4, 4, 4, 4, 4, 4, 4, 4, 4, 4, 6, 4, 4, 4, 6, 7, 4, 6,\n",
       "       4, 4, 7, 6, 4, 4, 4, 4, 4, 4, 4, 4, 7, 4, 4, 4, 4, 4, 6, 4, 4, 4,\n",
       "       4, 4, 4, 4, 4, 4, 8, 8, 4, 4, 4, 4, 4, 4, 4, 4, 7, 4, 4, 4, 4, 4,\n",
       "       4, 6, 4, 4, 4, 4, 4, 4, 7, 4, 4, 4, 4, 4, 4, 4, 4, 4, 4, 4, 4, 4,\n",
       "       4, 4, 4, 4, 4, 4, 4, 7, 4, 4, 8, 4, 4, 4, 4, 4, 4, 4, 4, 4, 4, 4,\n",
       "       4, 4, 4, 4, 4, 4, 4, 4, 4, 4, 4, 4, 4, 4, 4, 8, 4, 4, 4, 4, 4, 4,\n",
       "       4, 4, 4, 4, 4, 4, 4, 4, 4, 4, 4, 4, 4, 4, 4, 4, 4, 4, 4, 4, 4, 4,\n",
       "       7, 4, 4, 4, 4, 4, 4, 4, 4, 4, 4, 4, 4, 4, 4, 4, 4, 4, 4, 4, 4, 4,\n",
       "       4, 4, 4, 4, 4, 4, 7, 4, 4, 4, 4, 4, 6, 4, 4, 4, 4, 4, 4, 4, 4, 4,\n",
       "       4, 4], dtype=int64)"
      ]
     },
     "metadata": {},
     "output_type": "display_data"
    }
   ],
   "source": [
    "display(yhat_classes)\n",
    "display(y_test)"
   ]
  },
  {
   "cell_type": "code",
   "execution_count": 28,
   "id": "441eb2e5",
   "metadata": {},
   "outputs": [
    {
     "name": "stdout",
     "output_type": "stream",
     "text": [
      "Accuracy: 0.891892\n",
      "Precision: 0.891892\n",
      "Recall: 0.891892\n",
      "F1 score: 0.891892\n"
     ]
    }
   ],
   "source": [
    "# accuracy: (tp + tn) / (p + n)\n",
    "accuracy = accuracy_score(y_test, yhat_classes)\n",
    "print('Accuracy: %f' % accuracy)\n",
    "# precision tp / (tp + fp)\n",
    "precision = precision_score(y_test, yhat_classes,pos_label='positive', average='micro')\n",
    "print('Precision: %f' % precision)\n",
    "# recall: tp / (tp + fn)\n",
    "recall = recall_score(y_test, yhat_classes, pos_label='positive',average='micro')\n",
    "print('Recall: %f' % recall)\n",
    "# f1: 2 tp / (2 tp + fp + fn)\n",
    "f1 = f1_score(y_test, yhat_classes,pos_label='positive',average='micro')\n",
    "print('F1 score: %f' % f1)"
   ]
  },
  {
   "cell_type": "markdown",
   "id": "8a5caf39",
   "metadata": {},
   "source": [
    "<b> Epoch = 5 </b>"
   ]
  },
  {
   "cell_type": "code",
   "execution_count": 63,
   "id": "60353ffd",
   "metadata": {},
   "outputs": [
    {
     "data": {
      "image/png": "[encoded data removed]",
      "text/plain": [
       "<Figure size 1080x360 with 2 Axes>"
      ]
     },
     "metadata": {
      "needs_background": "light"
     },
     "output_type": "display_data"
    }
   ],
   "source": [
    "history_dict=history.history\n",
    "loss_values=history_dict['loss']\n",
    "acc_values=history_dict['accuracy']\n",
    "val_loss_values = history_dict['val_loss']\n",
    "val_acc_values=history_dict['val_accuracy']\n",
    "epochs=range(1,6)\n",
    "fig,(ax1,ax2)=plt.subplots(1,2,figsize=(15,5))\n",
    "ax1.plot(epochs,loss_values,'bo',label='Training Loss')\n",
    "ax1.plot(epochs,val_loss_values,'orange', label='Validation Loss')\n",
    "ax1.set_title('Training and validation loss')\n",
    "ax1.set_xlabel('Epochs')\n",
    "ax1.set_ylabel('Loss')\n",
    "ax1.legend()\n",
    "ax2.plot(epochs,acc_values,'bo', label='Training accuracy')\n",
    "ax2.plot(epochs,val_acc_values,'orange',label='Validation accuracy')\n",
    "ax2.set_title('Training and validation accuracy')\n",
    "ax2.set_xlabel('Epochs')\n",
    "ax2.set_ylabel('Accuracy')\n",
    "ax2.legend()\n",
    "plt.show()"
   ]
  },
  {
   "cell_type": "code",
   "execution_count": 53,
   "id": "c3c371c1",
   "metadata": {},
   "outputs": [],
   "source": [
    "# demonstration of calculating metrics for a neural network model using sklearn\n",
    "from sklearn.datasets import make_circles\n",
    "from sklearn.metrics import accuracy_score\n",
    "from sklearn.metrics import precision_score\n",
    "from sklearn.metrics import recall_score\n",
    "from sklearn.metrics import f1_score\n",
    "from sklearn.metrics import cohen_kappa_score\n",
    "from sklearn.metrics import roc_auc_score\n",
    "from sklearn.metrics import confusion_matrix"
   ]
  },
  {
   "cell_type": "code",
   "execution_count": 64,
   "id": "3013651a",
   "metadata": {},
   "outputs": [],
   "source": [
    "# predict probabilities for test set\n",
    "yhat_probs = CNNmodel.predict(X_test, verbose=0)\n",
    "# predict crisp classes for test set\n",
    "yhat_classes = CNNmodel.predict_classes(X_test, verbose=0)\n",
    "# reduce to 1d array\n",
    "yhat_probs = yhat_probs[:, 0]\n"
   ]
  },
  {
   "cell_type": "code",
   "execution_count": 65,
   "id": "0543755e",
   "metadata": {},
   "outputs": [
    {
     "data": {
      "text/plain": [
       "array([4, 4, 4, 4, 4, 4, 4, 4, 4, 4, 4, 4, 4, 4, 4, 4, 4, 4, 4, 4, 4, 4,\n",
       "       4, 4, 4, 4, 4, 4, 4, 4, 4, 4, 4, 4, 4, 4, 4, 4, 4, 4, 4, 4, 4, 4,\n",
       "       4, 4, 4, 4, 4, 4, 4, 4, 4, 4, 4, 4, 4, 4, 4, 4, 4, 4, 4, 4, 4, 4,\n",
       "       4, 4, 4, 4, 4, 4, 4, 4, 4, 4, 4, 4, 4, 4, 4, 4, 4, 4, 4, 4, 4, 4,\n",
       "       4, 4, 4, 4, 4, 4, 4, 4, 4, 4, 4, 4, 4, 4, 4, 4, 4, 4, 4, 4, 4, 4,\n",
       "       4, 4, 4, 4, 4, 4, 4, 4, 4, 4, 4, 4, 4, 4, 4, 4, 4, 4, 4, 4, 4, 4,\n",
       "       4, 4, 4, 4, 4, 4, 4, 4, 4, 4, 4, 4, 4, 4, 4, 4, 4, 4, 4, 4, 4, 4,\n",
       "       4, 4, 4, 4, 4, 4, 4, 4, 4, 4, 4, 4, 4, 4, 4, 4, 4, 4, 4, 4, 4, 4,\n",
       "       4, 4, 4, 4, 4, 4, 4, 4, 4, 4, 4, 4, 4, 4, 4, 4, 4, 4, 4, 4, 4, 4,\n",
       "       4, 4, 4, 4, 4, 4, 4, 4, 4, 4, 4, 4, 4, 4, 4, 4, 4, 4, 4, 4, 4, 4,\n",
       "       4, 4], dtype=int64)"
      ]
     },
     "metadata": {},
     "output_type": "display_data"
    },
    {
     "data": {
      "text/plain": [
       "array([4, 4, 4, 4, 4, 4, 4, 4, 6, 4, 4, 7, 8, 4, 4, 4, 4, 4, 4, 4, 4, 6,\n",
       "       8, 4, 4, 4, 4, 4, 4, 4, 4, 4, 4, 4, 4, 4, 6, 4, 4, 4, 6, 7, 4, 6,\n",
       "       4, 4, 7, 6, 4, 4, 4, 4, 4, 4, 4, 4, 7, 4, 4, 4, 4, 4, 6, 4, 4, 4,\n",
       "       4, 4, 4, 4, 4, 4, 8, 8, 4, 4, 4, 4, 4, 4, 4, 4, 7, 4, 4, 4, 4, 4,\n",
       "       4, 6, 4, 4, 4, 4, 4, 4, 7, 4, 4, 4, 4, 4, 4, 4, 4, 4, 4, 4, 4, 4,\n",
       "       4, 4, 4, 4, 4, 4, 4, 7, 4, 4, 8, 4, 4, 4, 4, 4, 4, 4, 4, 4, 4, 4,\n",
       "       4, 4, 4, 4, 4, 4, 4, 4, 4, 4, 4, 4, 4, 4, 4, 8, 4, 4, 4, 4, 4, 4,\n",
       "       4, 4, 4, 4, 4, 4, 4, 4, 4, 4, 4, 4, 4, 4, 4, 4, 4, 4, 4, 4, 4, 4,\n",
       "       7, 4, 4, 4, 4, 4, 4, 4, 4, 4, 4, 4, 4, 4, 4, 4, 4, 4, 4, 4, 4, 4,\n",
       "       4, 4, 4, 4, 4, 4, 7, 4, 4, 4, 4, 4, 6, 4, 4, 4, 4, 4, 4, 4, 4, 4,\n",
       "       4, 4], dtype=int64)"
      ]
     },
     "metadata": {},
     "output_type": "display_data"
    }
   ],
   "source": [
    "display(yhat_classes)\n",
    "display(y_test)"
   ]
  },
  {
   "cell_type": "code",
   "execution_count": 66,
   "id": "3102cf50",
   "metadata": {},
   "outputs": [
    {
     "name": "stdout",
     "output_type": "stream",
     "text": [
      "Accuracy: 0.891892\n",
      "Precision: 0.891892\n",
      "Recall: 0.891892\n",
      "F1 score: 0.891892\n"
     ]
    }
   ],
   "source": [
    "# accuracy: (tp + tn) / (p + n)\n",
    "accuracy = accuracy_score(y_test, yhat_classes)\n",
    "print('Accuracy: %f' % accuracy)\n",
    "# precision tp / (tp + fp)\n",
    "precision = precision_score(y_test, yhat_classes,pos_label='positive', average='micro')\n",
    "print('Precision: %f' % precision)\n",
    "# recall: tp / (tp + fn)\n",
    "recall = recall_score(y_test, yhat_classes, pos_label='positive',average='micro')\n",
    "print('Recall: %f' % recall)\n",
    "# f1: 2 tp / (2 tp + fp + fn)\n",
    "f1 = f1_score(y_test, yhat_classes,pos_label='positive',average='micro')\n",
    "print('F1 score: %f' % f1)"
   ]
  },
  {
   "cell_type": "code",
   "execution_count": null,
   "id": "a6a6d8df",
   "metadata": {},
   "outputs": [],
   "source": []
  }
 ],
 "metadata": {
  "kernelspec": {
   "display_name": "Python 3 (ipykernel)",
   "language": "python",
   "name": "python3"
  },
  "language_info": {
   "codemirror_mode": {
    "name": "ipython",
    "version": 3
   },
   "file_extension": ".py",
   "mimetype": "text/x-python",
   "name": "python",
   "nbconvert_exporter": "python",
   "pygments_lexer": "ipython3",
   "version": "3.9.7"
  }
 },
 "nbformat": 4,
 "nbformat_minor": 5
}
