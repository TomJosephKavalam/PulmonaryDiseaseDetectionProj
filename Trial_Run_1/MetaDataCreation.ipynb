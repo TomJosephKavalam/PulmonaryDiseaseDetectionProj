{
 "cells": [
  {
   "cell_type": "code",
   "execution_count": 2,
   "id": "c82d00c8",
   "metadata": {},
   "outputs": [],
   "source": [
    "import pandas as pd\n",
    "import glob"
   ]
  },
  {
   "cell_type": "code",
   "execution_count": 1,
   "id": "a3c72368",
   "metadata": {},
   "outputs": [],
   "source": [
    "import tensorflow"
   ]
  },
  {
   "cell_type": "code",
   "execution_count": 3,
   "id": "04daa763",
   "metadata": {},
   "outputs": [],
   "source": [
    "import keras"
   ]
  },
  {
   "cell_type": "markdown",
   "id": "5099a961",
   "metadata": {},
   "source": [
    "Class and Class ID :-\n",
    "1. Asthma\n",
    "2. Bronchiectasis\n",
    "3. Bronchiolitis\n",
    "4. Copd\n",
    "5. Healthy\n",
    "6. LRTI\n",
    "7. Pneumonia\n",
    "8. URTI"
   ]
  },
  {
   "cell_type": "code",
   "execution_count": 4,
   "id": "6254140a",
   "metadata": {},
   "outputs": [
    {
     "data": {
      "text/html": [
       "<div>\n",
       "<style scoped>\n",
       "    .dataframe tbody tr th:only-of-type {\n",
       "        vertical-align: middle;\n",
       "    }\n",
       "\n",
       "    .dataframe tbody tr th {\n",
       "        vertical-align: top;\n",
       "    }\n",
       "\n",
       "    .dataframe thead th {\n",
       "        text-align: right;\n",
       "    }\n",
       "</style>\n",
       "<table border=\"1\" class=\"dataframe\">\n",
       "  <thead>\n",
       "    <tr style=\"text-align: right;\">\n",
       "      <th></th>\n",
       "      <th>File_Path</th>\n",
       "      <th>Class_ID</th>\n",
       "      <th>Class</th>\n",
       "    </tr>\n",
       "  </thead>\n",
       "  <tbody>\n",
       "    <tr>\n",
       "      <th>0</th>\n",
       "      <td>Audio files/Copd/104_1b1_Al_sc_Litt3200.wav</td>\n",
       "      <td>4</td>\n",
       "      <td>Copd</td>\n",
       "    </tr>\n",
       "    <tr>\n",
       "      <th>1</th>\n",
       "      <td>Audio files/Copd/104_1b1_Ar_sc_Litt3200.wav</td>\n",
       "      <td>4</td>\n",
       "      <td>Copd</td>\n",
       "    </tr>\n",
       "    <tr>\n",
       "      <th>2</th>\n",
       "      <td>Audio files/Copd/104_1b1_Ll_sc_Litt3200.wav</td>\n",
       "      <td>4</td>\n",
       "      <td>Copd</td>\n",
       "    </tr>\n",
       "    <tr>\n",
       "      <th>3</th>\n",
       "      <td>Audio files/Copd/104_1b1_Lr_sc_Litt3200.wav</td>\n",
       "      <td>4</td>\n",
       "      <td>Copd</td>\n",
       "    </tr>\n",
       "    <tr>\n",
       "      <th>4</th>\n",
       "      <td>Audio files/Copd/104_1b1_Pl_sc_Litt3200.wav</td>\n",
       "      <td>4</td>\n",
       "      <td>Copd</td>\n",
       "    </tr>\n",
       "    <tr>\n",
       "      <th>...</th>\n",
       "      <td>...</td>\n",
       "      <td>...</td>\n",
       "      <td>...</td>\n",
       "    </tr>\n",
       "    <tr>\n",
       "      <th>883</th>\n",
       "      <td>Audio files/URTI/190_1b1_Tc_sc_Meditron.wav</td>\n",
       "      <td>8</td>\n",
       "      <td>URTI</td>\n",
       "    </tr>\n",
       "    <tr>\n",
       "      <th>884</th>\n",
       "      <td>Audio files/URTI/197_1b1_Al_sc_Meditron.wav</td>\n",
       "      <td>8</td>\n",
       "      <td>URTI</td>\n",
       "    </tr>\n",
       "    <tr>\n",
       "      <th>885</th>\n",
       "      <td>Audio files/URTI/197_1b1_Tc_sc_Meditron.wav</td>\n",
       "      <td>8</td>\n",
       "      <td>URTI</td>\n",
       "    </tr>\n",
       "    <tr>\n",
       "      <th>886</th>\n",
       "      <td>Audio files/URTI/210_1b1_Al_sc_Meditron.wav</td>\n",
       "      <td>8</td>\n",
       "      <td>URTI</td>\n",
       "    </tr>\n",
       "    <tr>\n",
       "      <th>887</th>\n",
       "      <td>Audio files/URTI/210_1b1_Ar_sc_Meditron.wav</td>\n",
       "      <td>8</td>\n",
       "      <td>URTI</td>\n",
       "    </tr>\n",
       "  </tbody>\n",
       "</table>\n",
       "<p>888 rows × 3 columns</p>\n",
       "</div>"
      ],
      "text/plain": [
       "                                       File_Path Class_ID Class\n",
       "0    Audio files/Copd/104_1b1_Al_sc_Litt3200.wav        4  Copd\n",
       "1    Audio files/Copd/104_1b1_Ar_sc_Litt3200.wav        4  Copd\n",
       "2    Audio files/Copd/104_1b1_Ll_sc_Litt3200.wav        4  Copd\n",
       "3    Audio files/Copd/104_1b1_Lr_sc_Litt3200.wav        4  Copd\n",
       "4    Audio files/Copd/104_1b1_Pl_sc_Litt3200.wav        4  Copd\n",
       "..                                           ...      ...   ...\n",
       "883  Audio files/URTI/190_1b1_Tc_sc_Meditron.wav        8  URTI\n",
       "884  Audio files/URTI/197_1b1_Al_sc_Meditron.wav        8  URTI\n",
       "885  Audio files/URTI/197_1b1_Tc_sc_Meditron.wav        8  URTI\n",
       "886  Audio files/URTI/210_1b1_Al_sc_Meditron.wav        8  URTI\n",
       "887  Audio files/URTI/210_1b1_Ar_sc_Meditron.wav        8  URTI\n",
       "\n",
       "[888 rows x 3 columns]"
      ]
     },
     "execution_count": 4,
     "metadata": {},
     "output_type": "execute_result"
    }
   ],
   "source": [
    "df=pd.DataFrame(columns = ['File_Path', 'Class_ID', 'Class'])\n",
    "for h in glob.glob(\"Audio files/Copd/*.wav\"):\n",
    "    df.loc[len(df.index)] = [h.split(\"\\\\\")[0]+'/'+h.split(\"\\\\\")[1], 4, 'Copd'] \n",
    "for h in glob.glob(\"Audio files/Healthy/*.wav\"):\n",
    "    df.loc[len(df.index)] = [h.split(\"\\\\\")[0]+'/'+h.split(\"\\\\\")[1], 6, 'LRTI'] \n",
    "for h in glob.glob(\"Audio files/Pneumonia/*.wav\"):\n",
    "    df.loc[len(df.index)] = [h.split(\"\\\\\")[0]+'/'+h.split(\"\\\\\")[1], 7, 'Pneumonia'] \n",
    "for h in glob.glob(\"Audio files/URTI/*.wav\"):\n",
    "    df.loc[len(df.index)] = [h.split(\"\\\\\")[0]+'/'+h.split(\"\\\\\")[1], 8, 'URTI'] \n",
    "df"
   ]
  },
  {
   "cell_type": "code",
   "execution_count": 5,
   "id": "643a195b",
   "metadata": {},
   "outputs": [],
   "source": [
    "df.to_csv('Meta_Data_of_audio_files.csv')"
   ]
  }
 ],
 "metadata": {
  "kernelspec": {
   "display_name": "Python 3 (ipykernel)",
   "language": "python",
   "name": "python3"
  },
  "language_info": {
   "codemirror_mode": {
    "name": "ipython",
    "version": 3
   },
   "file_extension": ".py",
   "mimetype": "text/x-python",
   "name": "python",
   "nbconvert_exporter": "python",
   "pygments_lexer": "ipython3",
   "version": "3.9.7"
  }
 },
 "nbformat": 4,
 "nbformat_minor": 5
}
