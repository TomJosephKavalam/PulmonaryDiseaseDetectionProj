{
 "cells": [
  {
   "cell_type": "code",
   "execution_count": 2,
   "id": "3f9ab4c2",
   "metadata": {},
   "outputs": [],
   "source": [
    "import pandas as pd\n",
    "import os\n",
    "import librosa\n",
    "import librosa.display\n",
    "import matplotlib.pyplot as plt\n",
    "from sklearn.preprocessing import normalize\n",
    "import warnings\n",
    "warnings.filterwarnings('ignore')\n",
    "import numpy as np\n",
    "import pickle\n",
    "import joblib\n",
    "from sklearn.model_selection import train_test_split\n",
    "from tensorflow.keras import models, layers\n",
    "import tensorflow as tf\n",
    "from tensorflow.keras.layers import Input, Conv2D, BatchNormalization, GlobalAveragePooling2D, ReLU, Dense, DepthwiseConv2D\n",
    "from tensorflow.keras.models import Model"
   ]
  },
  {
   "cell_type": "markdown",
   "id": "1a87f5cb",
   "metadata": {},
   "source": [
    "Class and Class ID :-\n",
    "1. Asthma\n",
    "2. Bronchiectasis\n",
    "3. Bronchiolitis\n",
    "4. Copd\n",
    "5. Healthy\n",
    "6. LRTI\n",
    "7. Pneumonia\n",
    "8. URTI"
   ]
  },
  {
   "cell_type": "code",
   "execution_count": 3,
   "id": "677b221e",
   "metadata": {
    "scrolled": true
   },
   "outputs": [
    {
     "data": {
      "text/plain": [
       "array([4, 4, 4, 4, 4, 4, 4, 4, 4, 4, 4, 4, 4, 4, 4, 4, 4, 4, 4, 4, 4, 4,\n",
       "       4, 4, 4, 4, 4, 4, 4, 4, 4, 4, 4, 4, 4, 4, 4, 4, 4, 4, 4, 4, 4, 4,\n",
       "       4, 4, 4, 4, 4, 4, 4, 4, 4, 4, 4, 4, 4, 4, 4, 4, 4, 4, 4, 4, 4, 4,\n",
       "       4, 4, 4, 4, 4, 4, 4, 4, 4, 4, 4, 4, 4, 4, 4, 4, 4, 4, 4, 4, 4, 4,\n",
       "       4, 4, 4, 4, 4, 4, 4, 4, 4, 4, 4, 4, 4, 4, 4, 4, 4, 4, 4, 4, 4, 4,\n",
       "       4, 4, 4, 4, 4, 4, 4, 4, 4, 4, 4, 4, 4, 4, 4, 4, 4, 4, 4, 4, 4, 4,\n",
       "       4, 4, 4, 4, 4, 4, 4, 4, 4, 4, 4, 4, 4, 4, 4, 4, 4, 4, 4, 4, 4, 4,\n",
       "       4, 4, 4, 4, 4, 4, 4, 4, 4, 4, 4, 4, 4, 4, 4, 4, 4, 4, 4, 4, 4, 4,\n",
       "       4, 4, 4, 4, 4, 4, 4, 4, 4, 4, 4, 4, 4, 4, 4, 4, 4, 4, 4, 4, 4, 4,\n",
       "       4, 4, 4, 4, 4, 4, 4, 4, 4, 4, 4, 4, 4, 4, 4, 4, 4, 4, 4, 4, 4, 4,\n",
       "       4, 4, 4, 4, 4, 4, 4, 4, 4, 4, 4, 4, 4, 4, 4, 4, 4, 4, 4, 4, 4, 4,\n",
       "       4, 4, 4, 4, 4, 4, 4, 4, 4, 4, 4, 4, 4, 4, 4, 4, 4, 4, 4, 4, 4, 4,\n",
       "       4, 4, 4, 4, 4, 4, 4, 4, 4, 4, 4, 4, 4, 4, 4, 4, 4, 4, 4, 4, 4, 4,\n",
       "       4, 4, 4, 4, 4, 4, 4, 4, 4, 4, 4, 4, 4, 4, 4, 4, 4, 4, 4, 4, 4, 4,\n",
       "       4, 4, 4, 4, 4, 4, 4, 4, 4, 4, 4, 4, 4, 4, 4, 4, 4, 4, 4, 4, 4, 4,\n",
       "       4, 4, 4, 4, 4, 4, 4, 4, 4, 4, 4, 4, 4, 4, 4, 4, 4, 4, 4, 4, 4, 4,\n",
       "       4, 4, 4, 4, 4, 4, 4, 4, 4, 4, 4, 4, 4, 4, 4, 4, 4, 4, 4, 4, 4, 4,\n",
       "       4, 4, 4, 4, 4, 4, 4, 4, 4, 4, 4, 4, 4, 4, 4, 4, 4, 4, 4, 4, 4, 4,\n",
       "       4, 4, 4, 4, 4, 4, 4, 4, 4, 4, 4, 4, 4, 4, 4, 4, 4, 4, 4, 4, 4, 4,\n",
       "       4, 4, 4, 4, 4, 4, 4, 4, 4, 4, 4, 4, 4, 4, 4, 4, 4, 4, 4, 4, 4, 4,\n",
       "       4, 4, 4, 4, 4, 4, 4, 4, 4, 4, 4, 4, 4, 4, 4, 4, 4, 4, 4, 4, 4, 4,\n",
       "       4, 4, 4, 4, 4, 4, 4, 4, 4, 4, 4, 4, 4, 4, 4, 4, 4, 4, 4, 4, 4, 4,\n",
       "       4, 4, 4, 4, 4, 4, 4, 4, 4, 4, 4, 4, 4, 4, 4, 4, 4, 4, 4, 4, 4, 4,\n",
       "       4, 4, 4, 4, 4, 4, 4, 4, 4, 4, 4, 4, 4, 4, 4, 4, 4, 4, 4, 4, 4, 4,\n",
       "       4, 4, 4, 4, 4, 4, 4, 4, 4, 4, 4, 4, 4, 4, 4, 4, 4, 4, 4, 4, 4, 4,\n",
       "       4, 4, 4, 4, 4, 4, 4, 4, 4, 4, 4, 4, 4, 4, 4, 4, 4, 4, 4, 4, 4, 4,\n",
       "       4, 4, 4, 4, 4, 4, 4, 4, 4, 4, 4, 4, 4, 4, 4, 4, 4, 4, 4, 4, 4, 4,\n",
       "       4, 4, 4, 4, 4, 4, 4, 4, 4, 4, 4, 4, 4, 4, 4, 4, 4, 4, 4, 4, 4, 4,\n",
       "       4, 4, 4, 4, 4, 4, 4, 4, 4, 4, 4, 4, 4, 4, 4, 4, 4, 4, 4, 4, 4, 4,\n",
       "       4, 4, 4, 4, 4, 4, 4, 4, 4, 4, 4, 4, 4, 4, 4, 4, 4, 4, 4, 4, 4, 4,\n",
       "       4, 4, 4, 4, 4, 4, 4, 4, 4, 4, 4, 4, 4, 4, 4, 4, 4, 4, 4, 4, 4, 4,\n",
       "       4, 4, 4, 4, 4, 4, 4, 4, 4, 4, 4, 4, 4, 4, 4, 4, 4, 4, 4, 4, 4, 4,\n",
       "       4, 4, 4, 4, 4, 4, 4, 4, 4, 4, 4, 4, 4, 4, 4, 4, 4, 4, 4, 4, 4, 4,\n",
       "       4, 4, 4, 4, 4, 4, 4, 4, 4, 4, 4, 4, 4, 4, 4, 4, 4, 4, 4, 4, 4, 4,\n",
       "       4, 4, 4, 4, 4, 4, 4, 4, 4, 4, 4, 4, 4, 4, 4, 4, 4, 4, 4, 4, 4, 4,\n",
       "       4, 4, 4, 4, 4, 4, 4, 4, 4, 4, 4, 4, 4, 4, 4, 4, 4, 4, 4, 4, 4, 4,\n",
       "       6, 6, 6, 6, 6, 6, 6, 6, 6, 6, 6, 6, 6, 6, 6, 6, 6, 6, 6, 6, 6, 6,\n",
       "       6, 6, 6, 6, 6, 6, 6, 6, 6, 6, 6, 6, 6, 7, 7, 7, 7, 7, 7, 7, 7, 7,\n",
       "       7, 7, 7, 7, 7, 7, 7, 7, 7, 7, 7, 7, 7, 7, 7, 7, 7, 7, 7, 7, 7, 7,\n",
       "       7, 7, 7, 7, 7, 7, 8, 8, 8, 8, 8, 8, 8, 8, 8, 8, 8, 8, 8, 8, 8, 8,\n",
       "       8, 8, 8, 8, 8, 8, 8], dtype=int64)"
      ]
     },
     "execution_count": 3,
     "metadata": {},
     "output_type": "execute_result"
    }
   ],
   "source": [
    "y=np.load('y.npy')\n",
    "y"
   ]
  },
  {
   "cell_type": "code",
   "execution_count": 16,
   "id": "e2af3a51",
   "metadata": {},
   "outputs": [],
   "source": [
    "y = np.where(y == 4, 0, y)\n",
    "y = np.where(y == 6, 1, y)\n",
    "y = np.where(y == 7, 2, y)\n",
    "y = np.where(y == 8, 3, y)"
   ]
  },
  {
   "cell_type": "code",
   "execution_count": 4,
   "id": "6cf234e9",
   "metadata": {},
   "outputs": [],
   "source": [
    "X=np.load('X.npy')"
   ]
  },
  {
   "cell_type": "code",
   "execution_count": 17,
   "id": "11b88c9d",
   "metadata": {},
   "outputs": [
    {
     "name": "stdout",
     "output_type": "stream",
     "text": [
      "(665, 128, 4800, 3) (222, 128, 4800, 3)\n"
     ]
    }
   ],
   "source": [
    "X_train, X_test, y_train, y_test = train_test_split(X, y, test_size=0.25, random_state=123, stratify=y)\n",
    "print(X_train.shape,X_test.shape)"
   ]
  },
  {
   "cell_type": "code",
   "execution_count": 18,
   "id": "6fccd966",
   "metadata": {},
   "outputs": [],
   "source": [
    "X_train = np.array((X_train-np.min(X_train))/(np.max(X_train)-np.min(X_train)))\n",
    "X_test = np.array((X_test-np.min(X_test))/(np.max(X_test)-np.min(X_test)))\n",
    "X_train = X_train/np.std(X_train)\n",
    "X_test = X_test/np.std(X_test)\n",
    "y_train = np.array(y_train)\n",
    "y_test = np.array(y_test)"
   ]
  },
  {
   "cell_type": "code",
   "execution_count": 19,
   "id": "d83951a4",
   "metadata": {},
   "outputs": [
    {
     "name": "stdout",
     "output_type": "stream",
     "text": [
      "(498, 128, 4800, 3) (222, 128, 4800, 3) (167, 128, 4800, 3) 498 222 167\n"
     ]
    }
   ],
   "source": [
    "X_train, X_val, y_train, y_val = train_test_split(X_train, y_train, test_size=0.25, random_state=123)\n",
    "print(X_train.shape, X_test.shape, X_val.shape, len(y_train), len(y_test), len(y_val))"
   ]
  },
  {
   "cell_type": "code",
   "execution_count": 20,
   "id": "8d07668d",
   "metadata": {},
   "outputs": [
    {
     "data": {
      "text/plain": [
       "array([0, 0, 0, 0, 0, 0, 0, 0, 0, 0, 0, 0, 0, 0, 0, 0, 0, 2, 0, 0, 0, 0,\n",
       "       0, 2, 0, 3, 0, 3, 0, 0, 0, 0, 0, 0, 0, 0, 0, 0, 0, 0, 2, 2, 0, 1,\n",
       "       0, 3, 0, 0, 0, 0, 0, 0, 0, 0, 0, 0, 0, 0, 0, 0, 0, 0, 0, 0, 0, 0,\n",
       "       0, 0, 0, 0, 0, 0, 0, 0, 0, 0, 0, 0, 2, 0, 0, 0, 0, 2, 0, 0, 0, 0,\n",
       "       0, 0, 0, 0, 0, 0, 0, 0, 0, 0, 0, 0, 0, 0, 0, 0, 0, 0, 0, 0, 0, 0,\n",
       "       0, 0, 3, 0, 0, 0, 2, 0, 1, 0, 0, 0, 1, 0, 0, 0, 0, 0, 0, 0, 0, 0,\n",
       "       0, 3, 0, 2, 2, 1, 0, 0, 0, 0, 0, 0, 0, 0, 0, 0, 0, 0, 0, 0, 3, 0,\n",
       "       0, 0, 0, 0, 0, 0, 0, 0, 0, 0, 0, 0, 0, 1, 0, 1, 0, 0, 0, 0, 0, 0,\n",
       "       0, 0, 0, 0, 0, 0, 1, 0, 0, 0, 0, 0, 0, 0, 0, 0, 0, 0, 0, 0, 0, 0,\n",
       "       0, 0, 1, 0, 0, 0, 0, 0, 0, 0, 0, 0, 0, 0, 0, 0, 0, 3, 0, 1, 0, 0,\n",
       "       0, 0, 0, 0, 0, 0, 1, 0, 2, 0, 0, 0, 0, 1, 0, 0, 0, 0, 0, 0, 0, 2,\n",
       "       0, 0, 0, 0, 0, 2, 0, 0, 0, 0, 0, 0, 0, 0, 0, 0, 0, 3, 0, 0, 0, 0,\n",
       "       2, 0, 0, 0, 1, 0, 0, 0, 0, 0, 0, 0, 0, 0, 0, 1, 0, 0, 0, 0, 0, 0,\n",
       "       0, 0, 0, 0, 0, 0, 2, 0, 0, 0, 0, 0, 0, 0, 0, 0, 0, 0, 0, 0, 3, 0,\n",
       "       0, 0, 1, 0, 0, 0, 0, 0, 0, 0, 0, 0, 0, 0, 0, 0, 0, 0, 0, 0, 0, 0,\n",
       "       0, 0, 0, 0, 0, 0, 0, 0, 0, 0, 0, 0, 0, 0, 0, 0, 2, 0, 0, 2, 0, 0,\n",
       "       0, 0, 0, 3, 2, 0, 0, 0, 0, 0, 0, 0, 0, 0, 2, 0, 0, 0, 0, 0, 0, 0,\n",
       "       0, 0, 0, 0, 0, 0, 0, 0, 0, 1, 0, 0, 0, 0, 0, 0, 0, 0, 0, 0, 0, 0,\n",
       "       0, 0, 0, 0, 0, 0, 0, 0, 0, 3, 0, 0, 3, 0, 0, 0, 0, 0, 0, 0, 0, 0,\n",
       "       0, 0, 0, 0, 0, 0, 0, 0, 0, 0, 0, 0, 0, 0, 0, 0, 2, 0, 2, 0, 0, 0,\n",
       "       0, 0, 0, 0, 0, 0, 0, 0, 0, 0, 0, 0, 1, 0, 0, 0, 0, 0, 0, 0, 0, 0,\n",
       "       0, 0, 0, 0, 0, 0, 0, 0, 0, 3, 0, 2, 0, 0, 0, 0, 0, 0, 1, 0, 0, 0,\n",
       "       0, 0, 0, 0, 2, 0, 0, 0, 3, 0, 0, 0, 0, 1], dtype=int64)"
      ]
     },
     "execution_count": 20,
     "metadata": {},
     "output_type": "execute_result"
    }
   ],
   "source": [
    "y_train"
   ]
  },
  {
   "cell_type": "markdown",
   "id": "3018ec50",
   "metadata": {},
   "source": [
    "<Font size = 6> <b> MobileNet Model </b></font>"
   ]
  },
  {
   "cell_type": "code",
   "execution_count": 21,
   "id": "7805ee89",
   "metadata": {},
   "outputs": [
    {
     "name": "stdout",
     "output_type": "stream",
     "text": [
      "Model: \"functional_7\"\n",
      "_________________________________________________________________\n",
      "Layer (type)                 Output Shape              Param #   \n",
      "=================================================================\n",
      "input_4 (InputLayer)         [(None, 128, 4800, 3)]    0         \n",
      "_________________________________________________________________\n",
      "conv2d_42 (Conv2D)           (None, 64, 2400, 32)      864       \n",
      "_________________________________________________________________\n",
      "batch_normalization_81 (Batc (None, 64, 2400, 32)      128       \n",
      "_________________________________________________________________\n",
      "re_lu_81 (ReLU)              (None, 64, 2400, 32)      0         \n",
      "_________________________________________________________________\n",
      "depthwise_conv2d_39 (Depthwi (None, 64, 2400, 32)      288       \n",
      "_________________________________________________________________\n",
      "batch_normalization_82 (Batc (None, 64, 2400, 32)      128       \n",
      "_________________________________________________________________\n",
      "re_lu_82 (ReLU)              (None, 64, 2400, 32)      0         \n",
      "_________________________________________________________________\n",
      "conv2d_43 (Conv2D)           (None, 64, 2400, 32)      1024      \n",
      "_________________________________________________________________\n",
      "batch_normalization_83 (Batc (None, 64, 2400, 32)      128       \n",
      "_________________________________________________________________\n",
      "re_lu_83 (ReLU)              (None, 64, 2400, 32)      0         \n",
      "_________________________________________________________________\n",
      "depthwise_conv2d_40 (Depthwi (None, 32, 1200, 32)      288       \n",
      "_________________________________________________________________\n",
      "batch_normalization_84 (Batc (None, 32, 1200, 32)      128       \n",
      "_________________________________________________________________\n",
      "re_lu_84 (ReLU)              (None, 32, 1200, 32)      0         \n",
      "_________________________________________________________________\n",
      "conv2d_44 (Conv2D)           (None, 32, 1200, 32)      1024      \n",
      "_________________________________________________________________\n",
      "batch_normalization_85 (Batc (None, 32, 1200, 32)      128       \n",
      "_________________________________________________________________\n",
      "re_lu_85 (ReLU)              (None, 32, 1200, 32)      0         \n",
      "_________________________________________________________________\n",
      "depthwise_conv2d_41 (Depthwi (None, 32, 1200, 32)      288       \n",
      "_________________________________________________________________\n",
      "batch_normalization_86 (Batc (None, 32, 1200, 32)      128       \n",
      "_________________________________________________________________\n",
      "re_lu_86 (ReLU)              (None, 32, 1200, 32)      0         \n",
      "_________________________________________________________________\n",
      "conv2d_45 (Conv2D)           (None, 32, 1200, 32)      1024      \n",
      "_________________________________________________________________\n",
      "batch_normalization_87 (Batc (None, 32, 1200, 32)      128       \n",
      "_________________________________________________________________\n",
      "re_lu_87 (ReLU)              (None, 32, 1200, 32)      0         \n",
      "_________________________________________________________________\n",
      "depthwise_conv2d_42 (Depthwi (None, 16, 600, 32)       288       \n",
      "_________________________________________________________________\n",
      "batch_normalization_88 (Batc (None, 16, 600, 32)       128       \n",
      "_________________________________________________________________\n",
      "re_lu_88 (ReLU)              (None, 16, 600, 32)       0         \n",
      "_________________________________________________________________\n",
      "conv2d_46 (Conv2D)           (None, 16, 600, 32)       1024      \n",
      "_________________________________________________________________\n",
      "batch_normalization_89 (Batc (None, 16, 600, 32)       128       \n",
      "_________________________________________________________________\n",
      "re_lu_89 (ReLU)              (None, 16, 600, 32)       0         \n",
      "_________________________________________________________________\n",
      "depthwise_conv2d_43 (Depthwi (None, 16, 600, 32)       288       \n",
      "_________________________________________________________________\n",
      "batch_normalization_90 (Batc (None, 16, 600, 32)       128       \n",
      "_________________________________________________________________\n",
      "re_lu_90 (ReLU)              (None, 16, 600, 32)       0         \n",
      "_________________________________________________________________\n",
      "conv2d_47 (Conv2D)           (None, 16, 600, 32)       1024      \n",
      "_________________________________________________________________\n",
      "batch_normalization_91 (Batc (None, 16, 600, 32)       128       \n",
      "_________________________________________________________________\n",
      "re_lu_91 (ReLU)              (None, 16, 600, 32)       0         \n",
      "_________________________________________________________________\n",
      "depthwise_conv2d_44 (Depthwi (None, 8, 300, 32)        288       \n",
      "_________________________________________________________________\n",
      "batch_normalization_92 (Batc (None, 8, 300, 32)        128       \n",
      "_________________________________________________________________\n",
      "re_lu_92 (ReLU)              (None, 8, 300, 32)        0         \n",
      "_________________________________________________________________\n",
      "conv2d_48 (Conv2D)           (None, 8, 300, 32)        1024      \n",
      "_________________________________________________________________\n",
      "batch_normalization_93 (Batc (None, 8, 300, 32)        128       \n",
      "_________________________________________________________________\n",
      "re_lu_93 (ReLU)              (None, 8, 300, 32)        0         \n",
      "_________________________________________________________________\n",
      "depthwise_conv2d_45 (Depthwi (None, 8, 300, 32)        288       \n",
      "_________________________________________________________________\n",
      "batch_normalization_94 (Batc (None, 8, 300, 32)        128       \n",
      "_________________________________________________________________\n",
      "re_lu_94 (ReLU)              (None, 8, 300, 32)        0         \n",
      "_________________________________________________________________\n",
      "conv2d_49 (Conv2D)           (None, 8, 300, 32)        1024      \n",
      "_________________________________________________________________\n",
      "batch_normalization_95 (Batc (None, 8, 300, 32)        128       \n",
      "_________________________________________________________________\n",
      "re_lu_95 (ReLU)              (None, 8, 300, 32)        0         \n",
      "_________________________________________________________________\n",
      "depthwise_conv2d_46 (Depthwi (None, 8, 300, 32)        288       \n",
      "_________________________________________________________________\n",
      "batch_normalization_96 (Batc (None, 8, 300, 32)        128       \n",
      "_________________________________________________________________\n",
      "re_lu_96 (ReLU)              (None, 8, 300, 32)        0         \n",
      "_________________________________________________________________\n",
      "conv2d_50 (Conv2D)           (None, 8, 300, 32)        1024      \n",
      "_________________________________________________________________\n",
      "batch_normalization_97 (Batc (None, 8, 300, 32)        128       \n",
      "_________________________________________________________________\n",
      "re_lu_97 (ReLU)              (None, 8, 300, 32)        0         \n",
      "_________________________________________________________________\n",
      "depthwise_conv2d_47 (Depthwi (None, 8, 300, 32)        288       \n",
      "_________________________________________________________________\n",
      "batch_normalization_98 (Batc (None, 8, 300, 32)        128       \n",
      "_________________________________________________________________\n",
      "re_lu_98 (ReLU)              (None, 8, 300, 32)        0         \n",
      "_________________________________________________________________\n",
      "conv2d_51 (Conv2D)           (None, 8, 300, 32)        1024      \n",
      "_________________________________________________________________\n",
      "batch_normalization_99 (Batc (None, 8, 300, 32)        128       \n",
      "_________________________________________________________________\n",
      "re_lu_99 (ReLU)              (None, 8, 300, 32)        0         \n",
      "_________________________________________________________________\n",
      "depthwise_conv2d_48 (Depthwi (None, 8, 300, 32)        288       \n",
      "_________________________________________________________________\n",
      "batch_normalization_100 (Bat (None, 8, 300, 32)        128       \n",
      "_________________________________________________________________\n",
      "re_lu_100 (ReLU)             (None, 8, 300, 32)        0         \n",
      "_________________________________________________________________\n",
      "conv2d_52 (Conv2D)           (None, 8, 300, 32)        1024      \n",
      "_________________________________________________________________\n",
      "batch_normalization_101 (Bat (None, 8, 300, 32)        128       \n",
      "_________________________________________________________________\n",
      "re_lu_101 (ReLU)             (None, 8, 300, 32)        0         \n",
      "_________________________________________________________________\n",
      "depthwise_conv2d_49 (Depthwi (None, 8, 300, 32)        288       \n",
      "_________________________________________________________________\n",
      "batch_normalization_102 (Bat (None, 8, 300, 32)        128       \n",
      "_________________________________________________________________\n",
      "re_lu_102 (ReLU)             (None, 8, 300, 32)        0         \n",
      "_________________________________________________________________\n",
      "conv2d_53 (Conv2D)           (None, 8, 300, 32)        1024      \n",
      "_________________________________________________________________\n",
      "batch_normalization_103 (Bat (None, 8, 300, 32)        128       \n",
      "_________________________________________________________________\n",
      "re_lu_103 (ReLU)             (None, 8, 300, 32)        0         \n",
      "_________________________________________________________________\n",
      "depthwise_conv2d_50 (Depthwi (None, 4, 150, 32)        288       \n",
      "_________________________________________________________________\n",
      "batch_normalization_104 (Bat (None, 4, 150, 32)        128       \n",
      "_________________________________________________________________\n",
      "re_lu_104 (ReLU)             (None, 4, 150, 32)        0         \n",
      "_________________________________________________________________\n",
      "conv2d_54 (Conv2D)           (None, 4, 150, 32)        1024      \n",
      "_________________________________________________________________\n",
      "batch_normalization_105 (Bat (None, 4, 150, 32)        128       \n",
      "_________________________________________________________________\n",
      "re_lu_105 (ReLU)             (None, 4, 150, 32)        0         \n",
      "_________________________________________________________________\n",
      "depthwise_conv2d_51 (Depthwi (None, 4, 150, 32)        288       \n",
      "_________________________________________________________________\n",
      "batch_normalization_106 (Bat (None, 4, 150, 32)        128       \n",
      "_________________________________________________________________\n",
      "re_lu_106 (ReLU)             (None, 4, 150, 32)        0         \n",
      "_________________________________________________________________\n",
      "conv2d_55 (Conv2D)           (None, 4, 150, 32)        1024      \n",
      "_________________________________________________________________\n",
      "batch_normalization_107 (Bat (None, 4, 150, 32)        128       \n",
      "_________________________________________________________________\n",
      "re_lu_107 (ReLU)             (None, 4, 150, 32)        0         \n",
      "_________________________________________________________________\n",
      "global_average_pooling2d_3 ( (None, 32)                0         \n",
      "_________________________________________________________________\n",
      "dense_3 (Dense)              (None, 4)                 132       \n",
      "=================================================================\n",
      "Total params: 21,508\n",
      "Trainable params: 19,780\n",
      "Non-trainable params: 1,728\n",
      "_________________________________________________________________\n"
     ]
    }
   ],
   "source": [
    "def depth_block(x, strides):\n",
    "    x = DepthwiseConv2D(3,strides=strides,padding='same',  use_bias=False)(x)\n",
    "    x = BatchNormalization()(x)\n",
    "    x = ReLU()(x)\n",
    "    return x\n",
    "def single_conv_block(x,filters):\n",
    "    x = Conv2D(filters, 1,use_bias=False)(x)\n",
    "    x= BatchNormalization()(x)\n",
    "    x = ReLU()(x)\n",
    "    return x\n",
    "def combo_layer(x,repetition, strides):\n",
    "    x = depth_block(x,strides)\n",
    "    filters=32\n",
    "    x = single_conv_block(x, filters)\n",
    "    return x\n",
    "def MobileNet(input_shape=(128, 4800, 3),n_classes = 4):\n",
    "    input = Input (input_shape)\n",
    "    x = Conv2D(32,3,strides=(2,2),padding = 'same', use_bias=False) (input)\n",
    "    x =  BatchNormalization()(x)\n",
    "    x = ReLU()(x)\n",
    "    x = combo_layer(x,64, strides=(1,1))\n",
    "    x = combo_layer(x,128,strides=(2,2))\n",
    "    x = combo_layer(x,128,strides=(1,1))\n",
    "    x = combo_layer(x,256,strides=(2,2))\n",
    "    x = combo_layer(x,256,strides=(1,1))\n",
    "    x = combo_layer(x,512,strides=(2,2))\n",
    "    for _ in range(5):\n",
    "        x = combo_layer(x,512,strides=(1,1))\n",
    "    x = combo_layer(x,1024,strides=(2,2))\n",
    "    x = combo_layer(x,1024,strides=(1,1))\n",
    "    x = GlobalAveragePooling2D()(x)\n",
    "    output = Dense(n_classes,activation='softmax')(x)\n",
    "    model = Model(input, output)\n",
    "    return model\n",
    "n_classes = 4\n",
    "input_shape = (128, 4800, 3)\n",
    "model = MobileNet(input_shape,n_classes)\n",
    "model.summary()"
   ]
  },
  {
   "cell_type": "code",
   "execution_count": 22,
   "id": "6c2c06f7",
   "metadata": {},
   "outputs": [],
   "source": [
    "model.compile(optimizer='adam',loss=tf.keras.losses.SparseCategoricalCrossentropy(from_logits=False),metrics=['accuracy'])"
   ]
  },
  {
   "cell_type": "code",
   "execution_count": 23,
   "id": "136f2424",
   "metadata": {},
   "outputs": [
    {
     "name": "stdout",
     "output_type": "stream",
     "text": [
      "Epoch 1/5\n",
      "16/16 [==============================] - 129s 8s/step - loss: 1.4879 - accuracy: 0.1325 - val_loss: 1.3211 - val_accuracy: 0.8982\n",
      "Epoch 2/5\n",
      "16/16 [==============================] - 125s 8s/step - loss: 1.0669 - accuracy: 0.8775 - val_loss: 1.2283 - val_accuracy: 0.8982\n",
      "Epoch 3/5\n",
      "16/16 [==============================] - 125s 8s/step - loss: 0.7522 - accuracy: 0.8916 - val_loss: 1.1327 - val_accuracy: 0.8982\n",
      "Epoch 4/5\n",
      "16/16 [==============================] - 124s 8s/step - loss: 0.5996 - accuracy: 0.8916 - val_loss: 1.0479 - val_accuracy: 0.8982\n",
      "Epoch 5/5\n",
      "16/16 [==============================] - 124s 8s/step - loss: 0.5314 - accuracy: 0.8916 - val_loss: 0.9704 - val_accuracy: 0.8982\n"
     ]
    }
   ],
   "source": [
    "md = model.fit(X_train, y_train, epochs=5, validation_data= (X_val, y_val))"
   ]
  },
  {
   "cell_type": "code",
   "execution_count": 24,
   "id": "e626c5a3",
   "metadata": {},
   "outputs": [
    {
     "data": {
      "image/png": "[encoded data removed]",
      "text/plain": [
       "<Figure size 1080x360 with 2 Axes>"
      ]
     },
     "metadata": {
      "needs_background": "light"
     },
     "output_type": "display_data"
    }
   ],
   "source": [
    "history=md\n",
    "history_dict=history.history\n",
    "loss_values=history_dict['loss']\n",
    "acc_values=history_dict['accuracy']\n",
    "val_loss_values = history_dict['val_loss']\n",
    "val_acc_values=history_dict['val_accuracy']\n",
    "epochs=range(1,6)\n",
    "fig,(ax1,ax2)=plt.subplots(1,2,figsize=(15,5))\n",
    "ax1.plot(epochs,loss_values,'bo',label='Training Loss')\n",
    "ax1.plot(epochs,val_loss_values,'orange', label='Validation Loss')\n",
    "ax1.set_title('Training and validation loss')\n",
    "ax1.set_xlabel('Epochs')\n",
    "ax1.set_ylabel('Loss')\n",
    "ax1.legend()\n",
    "ax2.plot(epochs,acc_values,'bo', label='Training accuracy')\n",
    "ax2.plot(epochs,val_acc_values,'orange',label='Validation accuracy')\n",
    "ax2.set_title('Training and validation accuracy')\n",
    "ax2.set_xlabel('Epochs')\n",
    "ax2.set_ylabel('Accuracy')\n",
    "ax2.legend()\n",
    "plt.show()"
   ]
  }
 ],
 "metadata": {
  "kernelspec": {
   "display_name": "Python 3 (ipykernel)",
   "language": "python",
   "name": "python3"
  },
  "language_info": {
   "codemirror_mode": {
    "name": "ipython",
    "version": 3
   },
   "file_extension": ".py",
   "mimetype": "text/x-python",
   "name": "python",
   "nbconvert_exporter": "python",
   "pygments_lexer": "ipython3",
   "version": "3.9.7"
  }
 },
 "nbformat": 4,
 "nbformat_minor": 5
}
