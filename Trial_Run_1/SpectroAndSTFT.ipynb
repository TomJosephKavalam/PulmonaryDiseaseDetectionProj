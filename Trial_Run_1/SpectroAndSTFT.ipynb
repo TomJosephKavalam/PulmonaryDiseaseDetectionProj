{
 "cells": [
  {
   "cell_type": "code",
   "execution_count": 1,
   "id": "8358f2d8",
   "metadata": {},
   "outputs": [],
   "source": [
    "import numpy as np\n",
    "import sounddevice as sd\n",
    "import matplotlib.pyplot as plt\n",
    "import librosa as lbr\n",
    "import time\n",
    "import scipy \n",
    "import pandas as pd\n",
    "from os import walk\n",
    "import glob\n",
    "import librosa.display\n",
    "\n",
    "# For plotting headlessly\n",
    "from matplotlib.backends.backend_agg import FigureCanvasAgg as FigureCanvas"
   ]
  },
  {
   "cell_type": "code",
   "execution_count": 2,
   "id": "7d1ce2ba",
   "metadata": {},
   "outputs": [],
   "source": [
    "for h in glob.glob(\"Audio files/Copd/*.wav\"):\n",
    "    y, sr = lbr.load(h)\n",
    "\n",
    "    window_size = 1024\n",
    "    window = np.hanning(window_size)\n",
    "    stft  = lbr.core.spectrum.stft(y, n_fft=window_size, hop_length=512, window=window)\n",
    "    out = 2 * np.abs(stft) / np.sum(window)\n",
    "\n",
    "    fig = plt.Figure()\n",
    "    canvas = FigureCanvas(fig)\n",
    "    ax = fig.add_subplot(111)\n",
    "    p = lbr.display.specshow(lbr.amplitude_to_db(out, ref=np.max), ax=ax, y_axis='log', x_axis='time')\n",
    "    fig.savefig('Spectrogram/Copd/'+h.split('\\\\')[1].split('.')[0]+'.png')\n",
    "    np.savetxt('Stft/Copd/'+h.split('\\\\')[1].split('.')[0]+'.txt', stft, delimiter=',')"
   ]
  },
  {
   "cell_type": "code",
   "execution_count": 4,
   "id": "82f8296e",
   "metadata": {},
   "outputs": [],
   "source": [
    "for h in glob.glob(\"Audio files/Healthy/*.wav\"):\n",
    "    y, sr = lbr.load(h)\n",
    "\n",
    "    window_size = 1024\n",
    "    window = np.hanning(window_size)\n",
    "    stft  = lbr.core.spectrum.stft(y, n_fft=window_size, hop_length=512, window=window)\n",
    "    out = 2 * np.abs(stft) / np.sum(window)\n",
    "\n",
    "    fig = plt.Figure()\n",
    "    canvas = FigureCanvas(fig)\n",
    "    ax = fig.add_subplot(111)\n",
    "    p = lbr.display.specshow(lbr.amplitude_to_db(out, ref=np.max), ax=ax, y_axis='log', x_axis='time')\n",
    "    fig.savefig('Spectrogram/Healthy/'+h.split('\\\\')[1].split('.')[0]+'.png')\n",
    "    np.savetxt('Stft/Healthy/'+h.split('\\\\')[1].split('.')[0]+'.txt', stft, delimiter=',')"
   ]
  },
  {
   "cell_type": "code",
   "execution_count": 5,
   "id": "33a0a06b",
   "metadata": {},
   "outputs": [],
   "source": [
    "for h in glob.glob(\"Audio files/Asthma/*.wav\"):\n",
    "    y, sr = lbr.load(h)\n",
    "\n",
    "    window_size = 1024\n",
    "    window = np.hanning(window_size)\n",
    "    stft  = lbr.core.spectrum.stft(y, n_fft=window_size, hop_length=512, window=window)\n",
    "    out = 2 * np.abs(stft) / np.sum(window)\n",
    "\n",
    "    fig = plt.Figure()\n",
    "    canvas = FigureCanvas(fig)\n",
    "    ax = fig.add_subplot(111)\n",
    "    p = lbr.display.specshow(lbr.amplitude_to_db(out, ref=np.max), ax=ax, y_axis='log', x_axis='time')\n",
    "    fig.savefig('Spectrogram/Asthma/'+h.split('\\\\')[1].split('.')[0]+'.png')\n",
    "    np.savetxt('Stft/Asthma/'+h.split('\\\\')[1].split('.')[0]+'.txt', stft, delimiter=',')"
   ]
  },
  {
   "cell_type": "code",
   "execution_count": 6,
   "id": "478c48d5",
   "metadata": {},
   "outputs": [],
   "source": [
    "for h in glob.glob(\"Audio files/Bronchiectasis/*.wav\"):\n",
    "    y, sr = lbr.load(h)\n",
    "\n",
    "    window_size = 1024\n",
    "    window = np.hanning(window_size)\n",
    "    stft  = lbr.core.spectrum.stft(y, n_fft=window_size, hop_length=512, window=window)\n",
    "    out = 2 * np.abs(stft) / np.sum(window)\n",
    "\n",
    "    fig = plt.Figure()\n",
    "    canvas = FigureCanvas(fig)\n",
    "    ax = fig.add_subplot(111)\n",
    "    p = lbr.display.specshow(lbr.amplitude_to_db(out, ref=np.max), ax=ax, y_axis='log', x_axis='time')\n",
    "    fig.savefig('Spectrogram/Bronchiectasis/'+h.split('\\\\')[1].split('.')[0]+'.png')\n",
    "    np.savetxt('Stft/Bronchiectasis/'+h.split('\\\\')[1].split('.')[0]+'.txt', stft, delimiter=',')"
   ]
  },
  {
   "cell_type": "code",
   "execution_count": 7,
   "id": "765491b0",
   "metadata": {},
   "outputs": [],
   "source": [
    "for h in glob.glob(\"Audio files/Bronchiolitis/*.wav\"):\n",
    "    y, sr = lbr.load(h)\n",
    "\n",
    "    window_size = 1024\n",
    "    window = np.hanning(window_size)\n",
    "    stft  = lbr.core.spectrum.stft(y, n_fft=window_size, hop_length=512, window=window)\n",
    "    out = 2 * np.abs(stft) / np.sum(window)\n",
    "\n",
    "    fig = plt.Figure()\n",
    "    canvas = FigureCanvas(fig)\n",
    "    ax = fig.add_subplot(111)\n",
    "    p = lbr.display.specshow(lbr.amplitude_to_db(out, ref=np.max), ax=ax, y_axis='log', x_axis='time')\n",
    "    fig.savefig('Spectrogram/Bronchiolitis/'+h.split('\\\\')[1].split('.')[0]+'.png')\n",
    "    np.savetxt('Stft/Bronchiolitis/'+h.split('\\\\')[1].split('.')[0]+'.txt', stft, delimiter=',')"
   ]
  },
  {
   "cell_type": "code",
   "execution_count": 9,
   "id": "3601f12c",
   "metadata": {},
   "outputs": [],
   "source": [
    "for h in glob.glob(\"Audio files/LRTI/*.wav\"):\n",
    "    y, sr = lbr.load(h)\n",
    "\n",
    "    window_size = 1024\n",
    "    window = np.hanning(window_size)\n",
    "    stft  = lbr.core.spectrum.stft(y, n_fft=window_size, hop_length=512, window=window)\n",
    "    out = 2 * np.abs(stft) / np.sum(window)\n",
    "\n",
    "    fig = plt.Figure()\n",
    "    canvas = FigureCanvas(fig)\n",
    "    ax = fig.add_subplot(111)\n",
    "    p = lbr.display.specshow(lbr.amplitude_to_db(out, ref=np.max), ax=ax, y_axis='log', x_axis='time')\n",
    "    fig.savefig('Spectrogram/LRTI/'+h.split('\\\\')[1].split('.')[0]+'.png')\n",
    "    np.savetxt('Stft/LRTI/'+h.split('\\\\')[1].split('.')[0]+'.txt', stft, delimiter=',')"
   ]
  },
  {
   "cell_type": "code",
   "execution_count": 10,
   "id": "608be47a",
   "metadata": {},
   "outputs": [],
   "source": [
    "for h in glob.glob(\"Audio files/Pneumonia/*.wav\"):\n",
    "    y, sr = lbr.load(h)\n",
    "\n",
    "    window_size = 1024\n",
    "    window = np.hanning(window_size)\n",
    "    stft  = lbr.core.spectrum.stft(y, n_fft=window_size, hop_length=512, window=window)\n",
    "    out = 2 * np.abs(stft) / np.sum(window)\n",
    "\n",
    "    fig = plt.Figure()\n",
    "    canvas = FigureCanvas(fig)\n",
    "    ax = fig.add_subplot(111)\n",
    "    p = lbr.display.specshow(lbr.amplitude_to_db(out, ref=np.max), ax=ax, y_axis='log', x_axis='time')\n",
    "    fig.savefig('Spectrogram/Pneumonia/'+h.split('\\\\')[1].split('.')[0]+'.png')\n",
    "    np.savetxt('Stft/Pneumonia/'+h.split('\\\\')[1].split('.')[0]+'.txt', stft, delimiter=',')"
   ]
  },
  {
   "cell_type": "code",
   "execution_count": 11,
   "id": "9100f19e",
   "metadata": {},
   "outputs": [],
   "source": [
    "for h in glob.glob(\"Audio files/URTI/*.wav\"):\n",
    "    y, sr = lbr.load(h)\n",
    "\n",
    "    window_size = 1024\n",
    "    window = np.hanning(window_size)\n",
    "    stft  = lbr.core.spectrum.stft(y, n_fft=window_size, hop_length=512, window=window)\n",
    "    out = 2 * np.abs(stft) / np.sum(window)\n",
    "\n",
    "    fig = plt.Figure()\n",
    "    canvas = FigureCanvas(fig)\n",
    "    ax = fig.add_subplot(111)\n",
    "    p = lbr.display.specshow(lbr.amplitude_to_db(out, ref=np.max), ax=ax, y_axis='log', x_axis='time')\n",
    "    fig.savefig('Spectrogram/URTI/'+h.split('\\\\')[1].split('.')[0]+'.png')\n",
    "    np.savetxt('Stft/URTI/'+h.split('\\\\')[1].split('.')[0]+'.txt', stft, delimiter=',')"
   ]
  },
  {
   "cell_type": "code",
   "execution_count": null,
   "id": "2714aca6",
   "metadata": {},
   "outputs": [],
   "source": []
  }
 ],
 "metadata": {
  "kernelspec": {
   "display_name": "Python 3 (ipykernel)",
   "language": "python",
   "name": "python3"
  },
  "language_info": {
   "codemirror_mode": {
    "name": "ipython",
    "version": 3
   },
   "file_extension": ".py",
   "mimetype": "text/x-python",
   "name": "python",
   "nbconvert_exporter": "python",
   "pygments_lexer": "ipython3",
   "version": "3.9.7"
  }
 },
 "nbformat": 4,
 "nbformat_minor": 5
}
