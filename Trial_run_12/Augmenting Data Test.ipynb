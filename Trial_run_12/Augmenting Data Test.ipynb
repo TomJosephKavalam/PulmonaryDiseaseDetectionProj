{
 "cells": [
  {
   "cell_type": "code",
   "execution_count": 1,
   "id": "e09a8f71",
   "metadata": {},
   "outputs": [],
   "source": [
    "import pandas as pd\n",
    "import numpy as np\n",
    "import io\n",
    "import math\n",
    "import random\n",
    "import matplotlib.pyplot as plt\n",
    "import librosa\n",
    "import librosa.display\n",
    "import cv2\n",
    "import cmapy\n",
    "import nlpaug\n",
    "import nlpaug.augmenter.audio as naa\n",
    "from scipy.signal import butter, lfilter\n",
    "import torch\n",
    "from tqdm import tqdm\n",
    "import os\n",
    "import magic\n",
    "import augly.audio as audaugs\n",
    "from IPython.display import display, Audio"
   ]
  },
  {
   "cell_type": "code",
   "execution_count": 2,
   "id": "34b8127e",
   "metadata": {},
   "outputs": [
    {
     "data": {
      "text/html": [
       "<div>\n",
       "<style scoped>\n",
       "    .dataframe tbody tr th:only-of-type {\n",
       "        vertical-align: middle;\n",
       "    }\n",
       "\n",
       "    .dataframe tbody tr th {\n",
       "        vertical-align: top;\n",
       "    }\n",
       "\n",
       "    .dataframe thead th {\n",
       "        text-align: right;\n",
       "    }\n",
       "</style>\n",
       "<table border=\"1\" class=\"dataframe\">\n",
       "  <thead>\n",
       "    <tr style=\"text-align: right;\">\n",
       "      <th></th>\n",
       "      <th>Unnamed: 0</th>\n",
       "      <th>Patient_ID</th>\n",
       "      <th>Disease</th>\n",
       "      <th>Recording_index</th>\n",
       "      <th>Chest_Location</th>\n",
       "      <th>Acquisition_Mode</th>\n",
       "      <th>Recording_equipment</th>\n",
       "      <th>Respiratory_cycles</th>\n",
       "      <th>Normal_cycles</th>\n",
       "      <th>Wheeze_cycles</th>\n",
       "      <th>Crackle_cycles</th>\n",
       "      <th>Both</th>\n",
       "      <th>Filename</th>\n",
       "      <th>Train/Test</th>\n",
       "    </tr>\n",
       "  </thead>\n",
       "  <tbody>\n",
       "    <tr>\n",
       "      <th>0</th>\n",
       "      <td>217</td>\n",
       "      <td>136</td>\n",
       "      <td>NaN</td>\n",
       "      <td>1b1</td>\n",
       "      <td>Ar</td>\n",
       "      <td>sc</td>\n",
       "      <td>Meditron</td>\n",
       "      <td>9</td>\n",
       "      <td>9</td>\n",
       "      <td>0</td>\n",
       "      <td>0</td>\n",
       "      <td>0</td>\n",
       "      <td>136_1b1_Ar_sc_Meditron.txt</td>\n",
       "      <td>test</td>\n",
       "    </tr>\n",
       "    <tr>\n",
       "      <th>1</th>\n",
       "      <td>247</td>\n",
       "      <td>139</td>\n",
       "      <td>NaN</td>\n",
       "      <td>1b1</td>\n",
       "      <td>Al</td>\n",
       "      <td>sc</td>\n",
       "      <td>Litt3200</td>\n",
       "      <td>10</td>\n",
       "      <td>10</td>\n",
       "      <td>0</td>\n",
       "      <td>0</td>\n",
       "      <td>0</td>\n",
       "      <td>139_1b1_Al_sc_Litt3200.txt</td>\n",
       "      <td>test</td>\n",
       "    </tr>\n",
       "    <tr>\n",
       "      <th>2</th>\n",
       "      <td>248</td>\n",
       "      <td>139</td>\n",
       "      <td>NaN</td>\n",
       "      <td>1b1</td>\n",
       "      <td>Ar</td>\n",
       "      <td>sc</td>\n",
       "      <td>Litt3200</td>\n",
       "      <td>9</td>\n",
       "      <td>9</td>\n",
       "      <td>0</td>\n",
       "      <td>0</td>\n",
       "      <td>0</td>\n",
       "      <td>139_1b1_Ar_sc_Litt3200.txt</td>\n",
       "      <td>test</td>\n",
       "    </tr>\n",
       "    <tr>\n",
       "      <th>3</th>\n",
       "      <td>249</td>\n",
       "      <td>139</td>\n",
       "      <td>NaN</td>\n",
       "      <td>1b1</td>\n",
       "      <td>Ll</td>\n",
       "      <td>sc</td>\n",
       "      <td>Litt3200</td>\n",
       "      <td>8</td>\n",
       "      <td>7</td>\n",
       "      <td>0</td>\n",
       "      <td>0</td>\n",
       "      <td>1</td>\n",
       "      <td>139_1b1_Ll_sc_Litt3200.txt</td>\n",
       "      <td>test</td>\n",
       "    </tr>\n",
       "  </tbody>\n",
       "</table>\n",
       "</div>"
      ],
      "text/plain": [
       "   Unnamed: 0  Patient_ID  Disease Recording_index Chest_Location  \\\n",
       "0         217         136      NaN             1b1             Ar   \n",
       "1         247         139      NaN             1b1             Al   \n",
       "2         248         139      NaN             1b1             Ar   \n",
       "3         249         139      NaN             1b1             Ll   \n",
       "\n",
       "  Acquisition_Mode Recording_equipment  Respiratory_cycles  Normal_cycles  \\\n",
       "0               sc            Meditron                   9              9   \n",
       "1               sc            Litt3200                  10             10   \n",
       "2               sc            Litt3200                   9              9   \n",
       "3               sc            Litt3200                   8              7   \n",
       "\n",
       "   Wheeze_cycles  Crackle_cycles  Both                    Filename Train/Test  \n",
       "0              0               0     0  136_1b1_Ar_sc_Meditron.txt       test  \n",
       "1              0               0     0  139_1b1_Al_sc_Litt3200.txt       test  \n",
       "2              0               0     0  139_1b1_Ar_sc_Litt3200.txt       test  \n",
       "3              0               0     1  139_1b1_Ll_sc_Litt3200.txt       test  "
      ]
     },
     "execution_count": 2,
     "metadata": {},
     "output_type": "execute_result"
    }
   ],
   "source": [
    "audio_train=pd.read_csv('Temp_test_audio.csv')\n",
    "audio_train.head(4)"
   ]
  },
  {
   "cell_type": "code",
   "execution_count": 3,
   "id": "d5b9839d",
   "metadata": {},
   "outputs": [],
   "source": [
    "sample_rate=4000\n",
    "fs=30000\n",
    "data_dir='AudioFiles2/'\n",
    "desired_length=8\n",
    "n_mels = 64\n",
    "nfft = 256\n",
    "hop = nfft//2\n",
    "f_max = 2000\n",
    "train_flag=1\n",
    "lowcut=50\n",
    "highcut=2000"
   ]
  },
  {
   "cell_type": "code",
   "execution_count": 4,
   "id": "86d8a29d",
   "metadata": {},
   "outputs": [],
   "source": [
    "def butter_bandpass(lowcut, highcut, fs, order=5):\n",
    "    nyq = 0.5 * fs\n",
    "    low = lowcut / nyq\n",
    "    high = highcut / nyq\n",
    "    b, a = butter(order, [low, high], btype='band')\n",
    "    return b, a\n",
    "\n",
    "def butter_bandpass_filter(data, lowcut, highcut, fs, order=5):\n",
    "    b, a = butter_bandpass(lowcut, highcut, fs, order=order)\n",
    "    y = lfilter(b,a, data)\n",
    "    return y"
   ]
  },
  {
   "cell_type": "code",
   "execution_count": 5,
   "id": "0b17d6fb",
   "metadata": {},
   "outputs": [],
   "source": [
    "#slicing into breath cycles\n",
    "def slice_data(start, end, raw_data, sample_rate):\n",
    "    max_ind = len(raw_data) \n",
    "    start_ind = min(int(start * sample_rate), max_ind)\n",
    "    end_ind = min(int(end * sample_rate), max_ind)\n",
    "    y=butter_bandpass_filter(raw_data[start_ind: end_ind], lowcut, highcut, fs, order=5)\n",
    "    return y"
   ]
  },
  {
   "cell_type": "code",
   "execution_count": 6,
   "id": "d32f83b9",
   "metadata": {},
   "outputs": [],
   "source": [
    "#getting label of each cycles\n",
    "def get_label(crackle, wheeze):\n",
    "    if crackle == 0 and wheeze == 0:\n",
    "        return 0\n",
    "    elif crackle == 1 and wheeze == 0:\n",
    "        return 1\n",
    "    elif crackle == 0 and wheeze == 1:\n",
    "        return 2\n",
    "    else:\n",
    "        return 3"
   ]
  },
  {
   "cell_type": "code",
   "execution_count": 7,
   "id": "f563edc0",
   "metadata": {},
   "outputs": [],
   "source": [
    "#getting breath cycle samples\n",
    "def get_sound_samples(file_name, data_dir, sample_rate):\n",
    "    sample_data = [file_name]\n",
    "    data, rate = librosa.load(os.path.join(data_dir, file_name+'.wav'), sr=sample_rate)\n",
    "    recording_annotations=pd.read_csv(data_dir+file_name+'.txt', sep='\\t', header=None)\n",
    "    \n",
    "    for i in range(len(recording_annotations.index)):\n",
    "        row = recording_annotations.loc[i]\n",
    "        start = row[0]\n",
    "        end = row[1]\n",
    "        crackles = row[2]\n",
    "        wheezes = row[3]\n",
    "        audio_chunk = slice_data(start, end, data, rate)\n",
    "        sample_data.append((audio_chunk, start,end, get_label(crackles, wheezes)))\n",
    "    return sample_data"
   ]
  },
  {
   "cell_type": "code",
   "execution_count": 8,
   "id": "ea5d271f",
   "metadata": {},
   "outputs": [
    {
     "name": "stderr",
     "output_type": "stream",
     "text": [
      "\r",
      "0it [00:00, ?it/s]"
     ]
    },
    {
     "name": "stdout",
     "output_type": "stream",
     "text": [
      "136_1b1_Ar_sc_Meditron going on 0 out of 10\n"
     ]
    },
    {
     "name": "stderr",
     "output_type": "stream",
     "text": [
      "3it [00:06,  1.70s/it]"
     ]
    },
    {
     "name": "stdout",
     "output_type": "stream",
     "text": [
      "139_1b1_Al_sc_Litt3200 going on 1 out of 10\n",
      "139_1b1_Ar_sc_Litt3200 going on 2 out of 10\n",
      "139_1b1_Ll_sc_Litt3200 going on 3 out of 10\n",
      "139_1b1_Lr_sc_Litt3200 going on 4 out of 10\n"
     ]
    },
    {
     "name": "stderr",
     "output_type": "stream",
     "text": [
      "\r",
      "6it [00:06,  1.47it/s]"
     ]
    },
    {
     "name": "stdout",
     "output_type": "stream",
     "text": [
      "139_1b1_Pl_sc_Litt3200 going on 5 out of 10\n",
      "139_1b1_Pr_sc_Litt3200 going on 6 out of 10\n",
      "143_1b1_Al_sc_Meditron going on 7 out of 10\n"
     ]
    },
    {
     "name": "stderr",
     "output_type": "stream",
     "text": [
      "\r",
      "8it [00:08,  1.33it/s]"
     ]
    },
    {
     "name": "stdout",
     "output_type": "stream",
     "text": [
      "144_1b1_Al_sc_Meditron going on 8 out of 10\n",
      "144_1b1_Tc_sc_Meditron going on 9 out of 10\n"
     ]
    },
    {
     "name": "stderr",
     "output_type": "stream",
     "text": [
      "10it [00:12,  1.21s/it]\n"
     ]
    }
   ],
   "source": [
    "#creating list of breath cycles with respective labels\n",
    "filenames=audio_train['Filename']\n",
    "filenames_with_labels=[]\n",
    "cycle_list = []\n",
    "classwise_cycle_list = []\n",
    "for idx, filename in tqdm(enumerate(filenames)):\n",
    "            file_name=filename.split('.')[0]\n",
    "            print(file_name+\" going on \"+str(idx)+\" out of \"+str(len(filenames)))\n",
    "            data = get_sound_samples(file_name, data_dir, sample_rate)\n",
    "            cycles_with_labels = [(d[0], d[3], file_name, cycle_idx, 0) for cycle_idx, d in enumerate(data[1:])]\n",
    "            cycle_list.extend(cycles_with_labels)\n",
    "            for cycle_idx, d in enumerate(cycles_with_labels):\n",
    "                filenames_with_labels.append(file_name+'_'+str(d[3])+'_'+str(d[1]))\n",
    "                classwise_cycle_list.append((d[0],d[1]))"
   ]
  },
  {
   "cell_type": "code",
   "execution_count": 9,
   "id": "c444af95",
   "metadata": {},
   "outputs": [
    {
     "data": {
      "text/plain": [
       "0"
      ]
     },
     "metadata": {},
     "output_type": "display_data"
    },
    {
     "data": {
      "text/plain": [
       "93"
      ]
     },
     "execution_count": 9,
     "metadata": {},
     "output_type": "execute_result"
    }
   ],
   "source": [
    "display(cycle_list[0][1])\n",
    "len(cycle_list)"
   ]
  },
  {
   "cell_type": "code",
   "execution_count": 10,
   "id": "a76e1c6c",
   "metadata": {},
   "outputs": [
    {
     "data": {
      "text/html": [
       "\n",
       "                <audio  controls=\"controls\" >\n",
       "                    <source src=\"data:audio/wav;base64,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\" type=\"audio/wav\" />\n",
       "                    Your browser does not support the audio element.\n",
       "                </audio>\n",
       "              "
      ],
      "text/plain": [
       "<IPython.lib.display.Audio object>"
      ]
     },
     "metadata": {},
     "output_type": "display_data"
    }
   ],
   "source": [
    "display(Audio(cycle_list[0][0], rate=sample_rate))"
   ]
  },
  {
   "cell_type": "code",
   "execution_count": 11,
   "id": "e8d8bfe3",
   "metadata": {},
   "outputs": [],
   "source": [
    "aug = audaugs.Compose([audaugs.AddBackgroundNoise(),audaugs.Clicks()])"
   ]
  },
  {
   "cell_type": "code",
   "execution_count": 12,
   "id": "45584d8e",
   "metadata": {},
   "outputs": [],
   "source": [
    "aug_audio, sr = audaugs.pitch_shift(cycle_list[0][0], n_steps=10)"
   ]
  },
  {
   "cell_type": "code",
   "execution_count": 13,
   "id": "879b4680",
   "metadata": {},
   "outputs": [
    {
     "data": {
      "text/plain": [
       "array([-0.00620337, -0.0096352 , -0.01904592, ..., -0.02846355,\n",
       "       -0.02811167, -0.03490093])"
      ]
     },
     "execution_count": 13,
     "metadata": {},
     "output_type": "execute_result"
    }
   ],
   "source": [
    "aug_audio"
   ]
  },
  {
   "cell_type": "code",
   "execution_count": 14,
   "id": "97f4b618",
   "metadata": {},
   "outputs": [
    {
     "name": "stdout",
     "output_type": "stream",
     "text": [
      "(8572,) (8572,)\n"
     ]
    }
   ],
   "source": [
    "print(aug_audio.shape, cycle_list[0][0].shape)"
   ]
  },
  {
   "cell_type": "code",
   "execution_count": 15,
   "id": "dca5c1b2",
   "metadata": {},
   "outputs": [
    {
     "data": {
      "text/plain": [
       "104"
      ]
     },
     "execution_count": 15,
     "metadata": {},
     "output_type": "execute_result"
    }
   ],
   "source": [
    "cycle_list_aug=[]\n",
    "for i in range(len(cycle_list)):\n",
    "    if cycle_list[i][1]!=0:\n",
    "        cycle_list_aug.append((cycle_list[i][0], cycle_list[i][1]))\n",
    "        aug_audio, sr=audaugs.pitch_shift(cycle_list[i][0], n_steps=10)\n",
    "        cycle_list_aug.append((aug_audio, cycle_list[i][1]))\n",
    "    else:\n",
    "        cycle_list_aug.append((cycle_list[i][0], cycle_list[i][1]))\n",
    "    #print(i)\n",
    "len(cycle_list_aug)"
   ]
  },
  {
   "cell_type": "code",
   "execution_count": 16,
   "id": "676bd45a",
   "metadata": {},
   "outputs": [
    {
     "data": {
      "text/plain": [
       "tuple"
      ]
     },
     "metadata": {},
     "output_type": "display_data"
    },
    {
     "data": {
      "text/plain": [
       "tuple"
      ]
     },
     "metadata": {},
     "output_type": "display_data"
    },
    {
     "data": {
      "text/plain": [
       "0"
      ]
     },
     "metadata": {},
     "output_type": "display_data"
    },
    {
     "data": {
      "text/plain": [
       "(array([-5.36899030e-05, -5.17179863e-04, -2.44551756e-03, ...,\n",
       "        -1.64040479e-01, -1.64190946e-01, -1.63977057e-01]),\n",
       " 0,\n",
       " '136_1b1_Ar_sc_Meditron',\n",
       " 0,\n",
       " 0)"
      ]
     },
     "metadata": {},
     "output_type": "display_data"
    }
   ],
   "source": [
    "display(type(cycle_list_aug[0]), type(cycle_list[0]), cycle_list_aug[0][1], cycle_list[0])"
   ]
  },
  {
   "cell_type": "code",
   "execution_count": 17,
   "id": "08a81035",
   "metadata": {},
   "outputs": [],
   "source": [
    "def padding(array, xx, yy):\n",
    "    \"\"\"\n",
    "    :param array: numpy array\n",
    "    :param xx: desired height\n",
    "    :param yy: desired width\n",
    "    :return: padded array\n",
    "    \"\"\"\n",
    "    h = array.shape[0]\n",
    "    w = array.shape[1]\n",
    "    a = max((xx - h) // 2,0)\n",
    "    aa = max(0,xx - a - h)\n",
    "    b = max(0,(yy - w) // 2)\n",
    "    bb = max(yy - b - w,0)\n",
    "    return np.pad(array, pad_width=((a, aa), (b, bb)), mode='constant')"
   ]
  },
  {
   "cell_type": "code",
   "execution_count": 18,
   "id": "246045df",
   "metadata": {},
   "outputs": [
    {
     "name": "stdout",
     "output_type": "stream",
     "text": [
      "<class 'numpy.ndarray'> [-5.36899030e-05 -5.17179863e-04 -2.44551756e-03 ... -1.64040479e-01\n",
      " -1.64190946e-01 -1.63977057e-01]\n",
      "<class 'numpy.ndarray'> [-5.57448134e-06 -5.33574735e-05 -2.50344552e-04 ...  1.25706215e-01\n",
      "  1.18222741e-01  1.11026220e-01]\n",
      "<class 'numpy.ndarray'> [ 2.13204646e-05  2.05915492e-04  9.77183554e-04 ... -1.30819273e-01\n",
      " -1.26692058e-01 -1.22823776e-01]\n",
      "<class 'numpy.ndarray'> [-2.18932458e-05 -2.11295211e-04 -1.00147003e-03 ... -5.95232474e-02\n",
      " -6.29295678e-02 -6.58988988e-02]\n",
      "<class 'numpy.ndarray'> [4.38271136e-07 5.06742033e-06 2.88792401e-05 ... 1.31617094e-01\n",
      " 1.77430281e-01 2.20164992e-01]\n",
      "<class 'numpy.ndarray'> [ 5.20454228e-05  5.06544751e-04  2.42594353e-03 ... -1.38790330e-01\n",
      " -1.42331811e-01 -1.45404617e-01]\n",
      "<class 'numpy.ndarray'> [ 1.52728380e-05  1.47131317e-04  6.95863159e-04 ... -1.68514520e-01\n",
      " -1.52203977e-01 -1.35541847e-01]\n",
      "<class 'numpy.ndarray'> [-1.10370906e-04 -1.06606682e-03 -5.05868191e-03 ... -1.29059272e-01\n",
      " -1.30761183e-01 -1.32570441e-01]\n",
      "<class 'numpy.ndarray'> [-1.95411071e-06 -1.98823823e-05 -1.00272935e-04 ... -8.08155264e-03\n",
      " -6.83204403e-03 -6.11063000e-03]\n",
      "<class 'numpy.ndarray'> [-2.15459174e-06 -2.07034359e-05 -9.76775947e-05 ... -1.79650318e-02\n",
      " -1.78702305e-02 -1.78324794e-02]\n",
      "<class 'numpy.ndarray'> [ 1.22769950e-05  1.18663344e-04  5.63539060e-04 ... -6.54734995e-02\n",
      " -6.52903006e-02 -6.51518036e-02]\n",
      "<class 'numpy.ndarray'> [ 5.11491723e-06  4.92333397e-05  2.32646164e-04 ... -2.51035923e-02\n",
      " -2.51032716e-02 -2.50231686e-02]\n",
      "<class 'numpy.ndarray'> [5.46705272e-06 5.28981467e-05 2.51500331e-04 ... 3.10041272e-02\n",
      " 3.06129915e-02 3.02603816e-02]\n",
      "<class 'numpy.ndarray'> [ 9.73445741e-06  9.40505779e-05  4.46381049e-04 ... -1.45177752e-02\n",
      " -1.48388906e-02 -1.51344486e-02]\n",
      "<class 'numpy.ndarray'> [ 7.43662411e-06  7.16468722e-05  3.38904741e-04 ... -1.13919547e-03\n",
      " -2.60065395e-04  7.23898667e-04]\n",
      "<class 'numpy.ndarray'> [-1.92182421e-06 -1.83112841e-05 -8.53497677e-05 ... -1.88123912e-02\n",
      " -1.82806259e-02 -1.77155199e-02]\n",
      "<class 'numpy.ndarray'> [-3.66459647e-06 -3.53581724e-05 -1.67564518e-04 ...  1.33048485e-02\n",
      "  1.37111304e-02  1.40248237e-02]\n",
      "<class 'numpy.ndarray'> [4.02270036e-06 3.89374022e-05 1.85272655e-04 ... 5.25774735e-03\n",
      " 5.05244650e-03 4.81095526e-03]\n",
      "<class 'numpy.ndarray'> [-3.70040686e-07 -3.51550659e-06 -1.63466058e-05 ... -1.50245646e-02\n",
      " -1.59684447e-02 -1.68966855e-02]\n",
      "<class 'numpy.ndarray'> [-2.96032549e-06 -2.88342921e-05 -1.38178030e-04 ... -2.91712906e-02\n",
      " -2.81380688e-02 -2.69733518e-02]\n",
      "<class 'numpy.ndarray'> [3.44973414e-06 3.35269596e-05 1.60307397e-04 ... 1.28716474e-02\n",
      " 1.22448890e-02 1.15542452e-02]\n",
      "<class 'numpy.ndarray'> [1.17875864e-05 1.13905024e-04 5.40799258e-04 ... 1.90320229e-02\n",
      " 1.95852821e-02 2.01383399e-02]\n",
      "<class 'numpy.ndarray'> [5.81918821e-06 5.64018070e-05 2.68785622e-04 ... 1.88386480e-02\n",
      " 1.88752189e-02 1.88795884e-02]\n",
      "<class 'numpy.ndarray'> [4.94183368e-06 4.79490190e-05 2.28820373e-04 ... 1.61764585e-02\n",
      " 1.47293907e-02 1.32602227e-02]\n",
      "<class 'numpy.ndarray'> [4.34499386e-06 4.19378783e-05 1.98820950e-04 ... 4.49015501e-02\n",
      " 4.39178117e-02 4.26270615e-02]\n",
      "<class 'numpy.ndarray'> [ 7.24563537e-06  7.01418112e-05  3.33700964e-04 ...  6.02092973e-04\n",
      "  1.98723992e-04 -1.28330756e-04]\n",
      "<class 'numpy.ndarray'> [-7.24563537e-06 -6.98851701e-05 -3.31012502e-04 ... -2.88723843e-02\n",
      " -2.90076413e-02 -2.91056891e-02]\n",
      "<class 'numpy.ndarray'> [-6.08776613e-07 -5.95935432e-06 -2.87472526e-05 ... -4.30519414e-03\n",
      " -2.80996735e-03 -7.89014505e-04]\n",
      "<class 'numpy.ndarray'> [-3.50941812e-06 -3.37634045e-05 -1.59459366e-04 ... -5.76266535e-02\n",
      " -5.80194068e-02 -5.84086621e-02]\n",
      "<class 'numpy.ndarray'> [ 0.00022458  0.00018854 -0.00057203 ... -0.00396912 -0.0019512\n",
      "  0.        ]\n",
      "<class 'numpy.ndarray'> [-8.01555874e-06 -7.78669973e-05 -3.72250979e-04 ...  4.34205500e-02\n",
      "  4.33358299e-02  4.30240965e-02]\n",
      "<class 'numpy.ndarray'> [ 7.43662411e-06  7.16409038e-05  3.38763519e-04 ... -3.73226057e-03\n",
      " -4.01758689e-03 -4.31682390e-03]\n",
      "<class 'numpy.ndarray'> [-1.09818526e-06 -1.04908750e-05 -4.92003142e-05 ...  2.21958955e-02\n",
      "  2.20850816e-02  2.19430543e-02]\n",
      "<class 'numpy.ndarray'> [5.66997826e-07 5.53183018e-06 2.65766413e-05 ... 4.72652382e-03\n",
      " 5.00140066e-03 5.21589090e-03]\n",
      "<class 'numpy.ndarray'> [-2.62609519e-06 -2.54260358e-05 -1.21029931e-04 ... -4.15465576e-03\n",
      " -4.17984322e-03 -4.13157431e-03]\n",
      "<class 'numpy.ndarray'> [-3.47360773e-06 -3.35725967e-05 -1.59423716e-04 ... -1.40298746e-02\n",
      " -1.44606912e-02 -1.49543015e-02]\n",
      "<class 'numpy.ndarray'> [ 4.06447915e-06  3.90844116e-05  1.84422685e-04 ... -8.28847558e-03\n",
      "  3.37879942e-03  1.36838669e-02]\n",
      "<class 'numpy.ndarray'> [-2.17846533e-06 -2.10594297e-05 -1.00084912e-04 ... -3.88983860e-03\n",
      " -4.09914453e-03 -4.22627241e-03]\n",
      "<class 'numpy.ndarray'> [-3.64072288e-07 -3.42203184e-06 -1.53687900e-05 ...  2.33962741e-02\n",
      "  2.37372634e-02  2.41032779e-02]\n",
      "<class 'numpy.ndarray'> [ 0.00062416  0.00087434  0.00073625 ... -0.01070086 -0.00997787\n",
      "  0.        ]\n",
      "<class 'numpy.ndarray'> [ 9.34054313e-06  9.04476554e-05  4.30526410e-04 ... -3.34840476e-03\n",
      " -3.25249399e-03 -3.10803004e-03]\n",
      "<class 'numpy.ndarray'> [-2.66033733e-04  2.13659592e-06  2.11416551e-03 ... -7.08388058e-04\n",
      " -1.14298644e-03 -1.81897974e-03]\n",
      "<class 'numpy.ndarray'> [ 5.35962155e-06  5.18243778e-05  2.46251154e-04 ... -3.74965965e-03\n",
      " -4.95984364e-03 -6.22267964e-03]\n",
      "<class 'numpy.ndarray'> [ 0.00030155  0.00064077  0.00172767 ... -0.00309012 -0.00278125\n",
      "  0.        ]\n",
      "<class 'numpy.ndarray'> [5.17460121e-06 4.92370171e-05 2.28862857e-04 ... 3.01032617e-03\n",
      " 3.08791806e-03 3.21831549e-03]\n",
      "<class 'numpy.ndarray'> [-3.40198695e-06 -3.29224031e-05 -1.56656057e-04 ... -2.56987827e-03\n",
      " -2.44901806e-03 -2.27383916e-03]\n",
      "<class 'numpy.ndarray'> [ 0.00000000e+00 -5.96839816e-09 -2.18539751e-08 ...  4.69903369e-02\n",
      "  4.94236717e-02  5.17738084e-02]\n",
      "<class 'numpy.ndarray'> [-0.0055149  -0.00783742 -0.00705225 ...  0.04561803  0.04336607\n",
      "  0.        ]\n",
      "<class 'numpy.ndarray'> [ 1.55834876e-05  1.50985411e-04  7.19257643e-04 ... -4.01016093e-01\n",
      " -4.08383378e-01 -4.14928574e-01]\n",
      "<class 'numpy.ndarray'> [-2.25091611e-03 -3.09533645e-03  4.40497736e-05 ...  5.24811399e-02\n",
      "  5.00127356e-02  0.00000000e+00]\n",
      "<class 'numpy.ndarray'> [-5.42527393e-05 -5.27135364e-04 -2.51974482e-03 ...  8.68827455e-02\n",
      "  8.52393663e-02  8.35058712e-02]\n",
      "<class 'numpy.ndarray'> [ 0.00433831  0.00490222 -0.00730063 ...  0.02617117  0.02297086\n",
      "  0.        ]\n",
      "<class 'numpy.ndarray'> [ 1.88064226e-05  1.81891400e-04  8.64647555e-04 ... -1.05689401e-01\n",
      " -1.11842055e-01 -1.17744359e-01]\n",
      "<class 'numpy.ndarray'> [2.41421706e-05 2.32213852e-04 1.09621422e-03 ... 2.96345710e-02\n",
      " 3.08804736e-02 3.22024483e-02]\n",
      "<class 'numpy.ndarray'> [3.25277700e-06 3.09854170e-05 1.44358311e-04 ... 2.14406067e-01\n",
      " 2.26322211e-01 2.34640664e-01]\n",
      "<class 'numpy.ndarray'> [ 0.00000000e+00  0.00000000e+00  5.96839816e-09 ... -4.57980251e-02\n",
      " -4.64511337e-02 -4.70058537e-02]\n",
      "<class 'numpy.ndarray'> [-7.29338256e-06 -7.06269997e-05 -3.36479531e-04 ... -8.29801872e-03\n",
      " -8.52462089e-03 -8.50292721e-03]\n",
      "<class 'numpy.ndarray'> [-8.14089510e-06 -7.85825719e-05 -3.72610269e-04 ... -4.52481593e-02\n",
      " -4.28589531e-02 -4.04445019e-02]\n",
      "<class 'numpy.ndarray'> [-0.0001393  -0.00045155 -0.00207639 ...  0.03895097  0.04041602\n",
      "  0.        ]\n",
      "<class 'numpy.ndarray'> [-1.25396045e-05 -1.20776820e-04 -5.71124751e-04 ... -3.99273530e-02\n",
      " -4.09292534e-02 -4.17259004e-02]\n",
      "<class 'numpy.ndarray'> [ 0.00046694  0.0003314  -0.00228196 ...  0.00341717  0.00535131\n",
      "  0.        ]\n",
      "<class 'numpy.ndarray'> [4.57179299e-06 4.42246185e-05 2.10139190e-04 ... 9.82476043e-02\n",
      " 9.91194321e-02 9.98068069e-02]\n",
      "<class 'numpy.ndarray'> [-0.00034623 -0.00031759  0.0007332  ... -0.01080118 -0.01224937\n",
      "  0.        ]\n",
      "<class 'numpy.ndarray'> [ 8.13492670e-06  7.91038421e-05  3.78467142e-04 ... -2.17732752e-02\n",
      " -2.61513031e-02 -3.05299119e-02]\n",
      "<class 'numpy.ndarray'> [ 7.21664942e-05  4.43788195e-04  2.27806050e-03 ... -2.69275346e-02\n",
      " -2.56063121e-02 -2.93443156e-02]\n",
      "<class 'numpy.ndarray'> [2.55507125e-05 2.46258335e-04 1.16535722e-03 ... 5.00540134e-02\n",
      " 4.78788977e-02 4.54294388e-02]\n",
      "<class 'numpy.ndarray'> [ 8.18797127e-06  7.89951995e-05  3.74071516e-04 ... -1.00748517e-02\n",
      " -9.54261246e-03 -8.99811504e-03]\n",
      "<class 'numpy.ndarray'> [-1.10497847e-05 -1.06670019e-04 -5.05903840e-04 ... -3.68663097e-02\n",
      " -3.15026793e-02 -2.60663201e-02]\n",
      "<class 'numpy.ndarray'> [-8.07878827e-07 -7.18692022e-06 -3.05086368e-05 ...  1.54435641e-02\n",
      "  1.55066787e-02  1.55663393e-02]\n",
      "<class 'numpy.ndarray'> [ 1.67159427e-06  1.55773291e-05  7.12583401e-05 ... -8.26113208e-03\n",
      " -8.63873062e-03 -8.87038426e-03]\n",
      "<class 'numpy.ndarray'> [-2.66948465e-06 -2.58000665e-05 -1.22493016e-04 ... -3.86761463e-03\n",
      " -4.33285371e-03 -4.82863280e-03]\n",
      "<class 'numpy.ndarray'> [-6.92205231e-06 -6.69131575e-05 -3.17901916e-04 ...  8.51371317e-02\n",
      "  8.65809990e-02  8.79709465e-02]\n",
      "<class 'numpy.ndarray'> [-3.37419893e-05 -3.25912520e-04 -1.54653494e-03 ... -1.57348322e-02\n",
      " -1.89180249e-02 -2.20812766e-02]\n",
      "<class 'numpy.ndarray'> [ 1.81461321e-05  1.75322562e-04  8.32215927e-04 ... -6.72054290e-02\n",
      " -6.73338935e-02 -6.74248553e-02]\n",
      "<class 'numpy.ndarray'> [3.09823323e-06 2.90774591e-05 1.32930651e-04 ... 1.81314146e-02\n",
      " 1.79805384e-02 1.78006238e-02]\n",
      "<class 'numpy.ndarray'> [-1.17190130e-06 -1.15214504e-05 -5.58526744e-05 ...  3.43372194e-02\n",
      "  3.41267248e-02  3.40336907e-02]\n",
      "<class 'numpy.ndarray'> [-9.59655185e-06 -9.30024420e-05 -4.43074854e-04 ...  2.83898182e-02\n",
      "  2.91374217e-02  2.98769427e-02]\n",
      "<class 'numpy.ndarray'> [-3.30555711e-06 -3.18994762e-05 -1.51128766e-04 ...  2.69752571e-02\n",
      "  2.70980586e-02  2.71573114e-02]\n",
      "<class 'numpy.ndarray'> [-1.73229861e-06 -1.66513311e-05 -7.85944975e-05 ... -4.42909397e-03\n",
      " -3.81125075e-03 -3.22470551e-03]\n",
      "<class 'numpy.ndarray'> [5.55563739e-06 5.36688084e-05 2.54670987e-04 ... 9.23012142e-06\n",
      " 7.05446826e-04 1.41209528e-03]\n",
      "<class 'numpy.ndarray'> [9.41784306e-06 9.11307919e-05 4.33430990e-04 ... 3.77713831e-03\n",
      " 3.91445154e-03 4.08129199e-03]\n",
      "<class 'numpy.ndarray'> [-2.67569566e-06 -2.58602405e-05 -1.22779478e-04 ...  6.97119095e-03\n",
      "  7.32345668e-03  7.71775394e-03]\n",
      "<class 'numpy.ndarray'> [-3.33126304e-06 -3.21227274e-05 -1.52090855e-04 ...  9.15155880e-03\n",
      "  7.00486367e-03  4.94925705e-03]\n",
      "<class 'numpy.ndarray'> [-3.24582103e-06 -3.16922184e-05 -1.52336388e-04 ...  1.39623035e-02\n",
      "  1.30685595e-02  1.19658812e-02]\n",
      "<class 'numpy.ndarray'> [ 3.68380543e-06  3.60081907e-05  1.73393651e-04 ... -4.60296983e-02\n",
      " -4.59118572e-02 -4.57112183e-02]\n",
      "<class 'numpy.ndarray'> [2.66876283e-06 2.57153257e-05 1.21748149e-04 ... 1.03229521e-02\n",
      " 1.05057699e-02 1.05424531e-02]\n",
      "<class 'numpy.ndarray'> [-1.10656747e-05 -1.07084213e-04 -5.09253777e-04 ...  2.03608617e-02\n",
      "  2.03763111e-02  2.04046162e-02]\n",
      "<class 'numpy.ndarray'> [ 3.67646806e-06  3.56501217e-05  1.69889163e-04 ... -3.15951058e-02\n",
      " -3.20933591e-02 -3.26764542e-02]\n",
      "<class 'numpy.ndarray'> [-1.32876185e-05 -1.28260137e-04 -6.07977048e-04 ... -2.16235790e-02\n",
      " -2.14071055e-02 -2.10012218e-02]\n",
      "<class 'numpy.ndarray'> [-2.84676382e-06 -2.75024066e-05 -1.30621514e-04 ...  2.48191104e-02\n",
      "  2.49615263e-02  2.51351523e-02]\n",
      "<class 'numpy.ndarray'> [ 1.13496828e-05  1.09834724e-04  5.22520052e-04 ... -1.23344129e-04\n",
      "  9.74084909e-05  2.67962123e-04]\n",
      "<class 'numpy.ndarray'> [2.74864917e-06 2.65359995e-05 1.25846112e-04 ... 9.40458794e-02\n",
      " 9.46455290e-02 9.50986110e-02]\n",
      "<class 'numpy.ndarray'> [2.85195284e-06 2.80882332e-05 1.36293889e-04 ... 5.10149307e-02\n",
      " 5.08261391e-02 5.04734325e-02]\n",
      "<class 'numpy.ndarray'> [3.00619498e-06 2.90238754e-05 1.37755705e-04 ... 5.76810833e-02\n",
      " 5.60346202e-02 5.34024408e-02]\n",
      "<class 'numpy.ndarray'> [-6.02261937e-06 -5.61490763e-05 -2.54121490e-04 ...  5.03412412e-02\n",
      "  4.98444752e-02  4.92601282e-02]\n",
      "<class 'numpy.ndarray'> [-4.37950158e-06 -4.20576194e-05 -1.98281878e-04 ...  2.23349219e-02\n",
      "  2.30713244e-02  2.38037946e-02]\n",
      "<class 'numpy.ndarray'> [-1.16870744e-05 -1.12932012e-04 -5.35983487e-04 ... -1.83175224e-02\n",
      " -1.79065957e-02 -1.74932369e-02]\n",
      "<class 'numpy.ndarray'> [-9.87750954e-06 -9.51248253e-05 -4.49686752e-04 ...  2.23852418e-02\n",
      "  2.21912189e-02  2.19801192e-02]\n",
      "<class 'numpy.ndarray'> [-1.31220774e-06 -1.26269195e-05 -5.96277947e-05 ... -1.74712910e-02\n",
      " -1.96701311e-02 -2.19601488e-02]\n",
      "<class 'numpy.ndarray'> [-1.29137456e-05 -1.25475560e-04 -5.99800932e-04 ... -1.73267926e-02\n",
      " -1.67455024e-02 -1.62866746e-02]\n",
      "<class 'numpy.ndarray'> [3.31919121e-08 2.59276537e-07 7.19727191e-07 ... 7.45919088e-02\n",
      " 7.40804066e-02 7.35681091e-02]\n",
      "<class 'numpy.ndarray'> [ 2.63901683e-06  2.58894443e-05  1.25356400e-04 ... -8.15060636e-03\n",
      " -8.03289296e-03 -8.03299787e-03]\n",
      "<class 'numpy.ndarray'> [ 8.02130856e-06  7.72277138e-05  3.65092861e-04 ... -2.20684089e-02\n",
      " -2.18450822e-02 -2.15255612e-02]\n",
      "<class 'numpy.ndarray'> [3.08490961e-06 2.97890157e-05 1.41464881e-04 ... 2.41636401e-03\n",
      " 2.22366143e-03 2.02962421e-03]\n"
     ]
    }
   ],
   "source": [
    "for idx, sample in enumerate(cycle_list_aug):\n",
    "    print(type(sample[0]), sample[0])"
   ]
  },
  {
   "cell_type": "code",
   "execution_count": 19,
   "id": "28062732",
   "metadata": {},
   "outputs": [
    {
     "name": "stdout",
     "output_type": "stream",
     "text": [
      "0 out of 104\n",
      "1 out of 104\n",
      "2 out of 104\n",
      "3 out of 104\n",
      "4 out of 104\n",
      "5 out of 104\n",
      "6 out of 104\n",
      "7 out of 104\n",
      "8 out of 104\n",
      "9 out of 104\n",
      "10 out of 104\n",
      "11 out of 104\n",
      "12 out of 104\n",
      "13 out of 104\n",
      "14 out of 104\n",
      "15 out of 104\n",
      "16 out of 104\n",
      "17 out of 104\n",
      "18 out of 104\n",
      "19 out of 104\n",
      "20 out of 104\n",
      "21 out of 104\n",
      "22 out of 104\n",
      "23 out of 104\n",
      "24 out of 104\n",
      "25 out of 104\n",
      "26 out of 104\n",
      "27 out of 104\n",
      "28 out of 104\n",
      "29 out of 104\n",
      "30 out of 104\n",
      "31 out of 104\n",
      "32 out of 104\n",
      "33 out of 104\n",
      "34 out of 104\n",
      "35 out of 104\n",
      "36 out of 104\n",
      "37 out of 104\n",
      "38 out of 104\n",
      "39 out of 104\n",
      "40 out of 104\n",
      "41 out of 104\n",
      "42 out of 104\n",
      "43 out of 104\n",
      "44 out of 104\n",
      "45 out of 104\n",
      "46 out of 104\n",
      "47 out of 104\n",
      "48 out of 104\n",
      "49 out of 104\n",
      "50 out of 104\n",
      "51 out of 104\n",
      "52 out of 104\n",
      "53 out of 104\n",
      "54 out of 104\n",
      "55 out of 104\n",
      "56 out of 104\n",
      "57 out of 104\n",
      "58 out of 104\n",
      "59 out of 104\n",
      "60 out of 104\n",
      "61 out of 104\n",
      "62 out of 104\n",
      "63 out of 104\n",
      "64 out of 104\n",
      "65 out of 104\n",
      "66 out of 104\n",
      "67 out of 104\n",
      "68 out of 104\n",
      "69 out of 104\n",
      "70 out of 104\n",
      "71 out of 104\n",
      "72 out of 104\n",
      "73 out of 104\n",
      "74 out of 104\n",
      "75 out of 104\n",
      "76 out of 104\n",
      "77 out of 104\n",
      "78 out of 104\n",
      "79 out of 104\n",
      "80 out of 104\n",
      "81 out of 104\n",
      "82 out of 104\n",
      "83 out of 104\n",
      "84 out of 104\n",
      "85 out of 104\n",
      "86 out of 104\n",
      "87 out of 104\n",
      "88 out of 104\n",
      "89 out of 104\n",
      "90 out of 104\n",
      "91 out of 104\n",
      "92 out of 104\n",
      "93 out of 104\n",
      "94 out of 104\n",
      "95 out of 104\n",
      "96 out of 104\n",
      "97 out of 104\n",
      "98 out of 104\n",
      "99 out of 104\n",
      "100 out of 104\n",
      "101 out of 104\n",
      "102 out of 104\n",
      "103 out of 104\n"
     ]
    }
   ],
   "source": [
    "#creating sliced and padded data = audio_data\n",
    "stft_data=[]\n",
    "for idx, sample in enumerate(cycle_list_aug):\n",
    "            print(str(idx)+\" out of \"+str(len(cycle_list_aug)))\n",
    "            stft=librosa.stft(sample[0], n_fft=512, hop_length = 64)\n",
    "            #print(stft.shape, sample[0].shape)\n",
    "            stft_data.append(padding(stft, 257, 1011))"
   ]
  },
  {
   "cell_type": "code",
   "execution_count": 20,
   "id": "e46f5d3c",
   "metadata": {},
   "outputs": [],
   "source": [
    "train_dataset=[]\n",
    "for index in range(len(stft_data)):\n",
    "    stft=stft_data[index]\n",
    "    label = cycle_list_aug[index][1]\n",
    "    train_dataset.append((stft, label))"
   ]
  },
  {
   "cell_type": "code",
   "execution_count": 21,
   "id": "88b4b2b5",
   "metadata": {},
   "outputs": [],
   "source": [
    "X_train=[]\n",
    "y_train=[]\n",
    "for i in range(len(train_dataset)):\n",
    "    X_train.append(train_dataset[i][0])\n",
    "    y_train.append(train_dataset[i][1])  \n",
    "    \n",
    "np.save('X_test_STFT_small_aug', np.concatenate(X_train, axis=0).reshape(len(train_dataset), 257, 1011, 1))\n",
    "#np.save('X_test_STFT_small', X_train)\n",
    "np.save('y_test_STFT_small_aug', y_train)"
   ]
  }
 ],
 "metadata": {
  "kernelspec": {
   "display_name": "Python 3 (ipykernel)",
   "language": "python",
   "name": "python3"
  },
  "language_info": {
   "codemirror_mode": {
    "name": "ipython",
    "version": 3
   },
   "file_extension": ".py",
   "mimetype": "text/x-python",
   "name": "python",
   "nbconvert_exporter": "python",
   "pygments_lexer": "ipython3",
   "version": "3.9.7"
  }
 },
 "nbformat": 4,
 "nbformat_minor": 5
}
