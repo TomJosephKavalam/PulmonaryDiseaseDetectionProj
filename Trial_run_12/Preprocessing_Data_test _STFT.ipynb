{
 "cells": [
  {
   "cell_type": "code",
   "execution_count": 1,
   "id": "377b220d",
   "metadata": {},
   "outputs": [],
   "source": [
    "import pandas as pd\n",
    "import numpy as np\n",
    "import io\n",
    "import math\n",
    "import random\n",
    "import matplotlib.pyplot as plt\n",
    "import librosa\n",
    "import librosa.display\n",
    "import cv2\n",
    "import cmapy\n",
    "import nlpaug\n",
    "import nlpaug.augmenter.audio as naa\n",
    "from scipy.signal import butter, lfilter\n",
    "import torch\n",
    "from tqdm import tqdm\n",
    "import os"
   ]
  },
  {
   "cell_type": "code",
   "execution_count": 2,
   "id": "acb969a3",
   "metadata": {},
   "outputs": [
    {
     "data": {
      "text/html": [
       "<div>\n",
       "<style scoped>\n",
       "    .dataframe tbody tr th:only-of-type {\n",
       "        vertical-align: middle;\n",
       "    }\n",
       "\n",
       "    .dataframe tbody tr th {\n",
       "        vertical-align: top;\n",
       "    }\n",
       "\n",
       "    .dataframe thead th {\n",
       "        text-align: right;\n",
       "    }\n",
       "</style>\n",
       "<table border=\"1\" class=\"dataframe\">\n",
       "  <thead>\n",
       "    <tr style=\"text-align: right;\">\n",
       "      <th></th>\n",
       "      <th>Unnamed: 0</th>\n",
       "      <th>Patient_ID</th>\n",
       "      <th>Disease</th>\n",
       "      <th>Recording_index</th>\n",
       "      <th>Chest_Location</th>\n",
       "      <th>Acquisition_Mode</th>\n",
       "      <th>Recording_equipment</th>\n",
       "      <th>Respiratory_cycles</th>\n",
       "      <th>Normal_cycles</th>\n",
       "      <th>Wheeze_cycles</th>\n",
       "      <th>Crackle_cycles</th>\n",
       "      <th>Both</th>\n",
       "      <th>Filename</th>\n",
       "      <th>Train/Test</th>\n",
       "    </tr>\n",
       "  </thead>\n",
       "  <tbody>\n",
       "    <tr>\n",
       "      <th>0</th>\n",
       "      <td>217</td>\n",
       "      <td>136</td>\n",
       "      <td>NaN</td>\n",
       "      <td>1b1</td>\n",
       "      <td>Ar</td>\n",
       "      <td>sc</td>\n",
       "      <td>Meditron</td>\n",
       "      <td>9</td>\n",
       "      <td>9</td>\n",
       "      <td>0</td>\n",
       "      <td>0</td>\n",
       "      <td>0</td>\n",
       "      <td>136_1b1_Ar_sc_Meditron.txt</td>\n",
       "      <td>test</td>\n",
       "    </tr>\n",
       "    <tr>\n",
       "      <th>1</th>\n",
       "      <td>247</td>\n",
       "      <td>139</td>\n",
       "      <td>NaN</td>\n",
       "      <td>1b1</td>\n",
       "      <td>Al</td>\n",
       "      <td>sc</td>\n",
       "      <td>Litt3200</td>\n",
       "      <td>10</td>\n",
       "      <td>10</td>\n",
       "      <td>0</td>\n",
       "      <td>0</td>\n",
       "      <td>0</td>\n",
       "      <td>139_1b1_Al_sc_Litt3200.txt</td>\n",
       "      <td>test</td>\n",
       "    </tr>\n",
       "    <tr>\n",
       "      <th>2</th>\n",
       "      <td>248</td>\n",
       "      <td>139</td>\n",
       "      <td>NaN</td>\n",
       "      <td>1b1</td>\n",
       "      <td>Ar</td>\n",
       "      <td>sc</td>\n",
       "      <td>Litt3200</td>\n",
       "      <td>9</td>\n",
       "      <td>9</td>\n",
       "      <td>0</td>\n",
       "      <td>0</td>\n",
       "      <td>0</td>\n",
       "      <td>139_1b1_Ar_sc_Litt3200.txt</td>\n",
       "      <td>test</td>\n",
       "    </tr>\n",
       "    <tr>\n",
       "      <th>3</th>\n",
       "      <td>249</td>\n",
       "      <td>139</td>\n",
       "      <td>NaN</td>\n",
       "      <td>1b1</td>\n",
       "      <td>Ll</td>\n",
       "      <td>sc</td>\n",
       "      <td>Litt3200</td>\n",
       "      <td>8</td>\n",
       "      <td>7</td>\n",
       "      <td>0</td>\n",
       "      <td>0</td>\n",
       "      <td>1</td>\n",
       "      <td>139_1b1_Ll_sc_Litt3200.txt</td>\n",
       "      <td>test</td>\n",
       "    </tr>\n",
       "  </tbody>\n",
       "</table>\n",
       "</div>"
      ],
      "text/plain": [
       "   Unnamed: 0  Patient_ID  Disease Recording_index Chest_Location  \\\n",
       "0         217         136      NaN             1b1             Ar   \n",
       "1         247         139      NaN             1b1             Al   \n",
       "2         248         139      NaN             1b1             Ar   \n",
       "3         249         139      NaN             1b1             Ll   \n",
       "\n",
       "  Acquisition_Mode Recording_equipment  Respiratory_cycles  Normal_cycles  \\\n",
       "0               sc            Meditron                   9              9   \n",
       "1               sc            Litt3200                  10             10   \n",
       "2               sc            Litt3200                   9              9   \n",
       "3               sc            Litt3200                   8              7   \n",
       "\n",
       "   Wheeze_cycles  Crackle_cycles  Both                    Filename Train/Test  \n",
       "0              0               0     0  136_1b1_Ar_sc_Meditron.txt       test  \n",
       "1              0               0     0  139_1b1_Al_sc_Litt3200.txt       test  \n",
       "2              0               0     0  139_1b1_Ar_sc_Litt3200.txt       test  \n",
       "3              0               0     1  139_1b1_Ll_sc_Litt3200.txt       test  "
      ]
     },
     "execution_count": 2,
     "metadata": {},
     "output_type": "execute_result"
    }
   ],
   "source": [
    "audio_train=pd.read_csv('Temp_test_audio.csv')\n",
    "audio_train.head(4)"
   ]
  },
  {
   "cell_type": "code",
   "execution_count": 3,
   "id": "4ddb7a8f",
   "metadata": {},
   "outputs": [],
   "source": [
    "sample_rate=4000\n",
    "fs=30000\n",
    "data_dir='AudioFiles2/'\n",
    "desired_length=8\n",
    "n_mels = 64\n",
    "nfft = 256\n",
    "hop = nfft//2\n",
    "f_max = 2000\n",
    "train_flag=1\n",
    "lowcut=50\n",
    "highcut=2000"
   ]
  },
  {
   "cell_type": "code",
   "execution_count": 4,
   "id": "e30f5a07",
   "metadata": {},
   "outputs": [],
   "source": [
    "def butter_bandpass(lowcut, highcut, fs, order=5):\n",
    "    nyq = 0.5 * fs\n",
    "    low = lowcut / nyq\n",
    "    high = highcut / nyq\n",
    "    b, a = butter(order, [low, high], btype='band')\n",
    "    return b, a\n",
    "\n",
    "def butter_bandpass_filter(data, lowcut, highcut, fs, order=5):\n",
    "    b, a = butter_bandpass(lowcut, highcut, fs, order=order)\n",
    "    y = lfilter(b,a, data)\n",
    "    return y"
   ]
  },
  {
   "cell_type": "code",
   "execution_count": 5,
   "id": "e654b5f5",
   "metadata": {},
   "outputs": [],
   "source": [
    "#slicing into breath cycles\n",
    "def slice_data(start, end, raw_data, sample_rate):\n",
    "    max_ind = len(raw_data) \n",
    "    start_ind = min(int(start * sample_rate), max_ind)\n",
    "    end_ind = min(int(end * sample_rate), max_ind)\n",
    "    y=butter_bandpass_filter(raw_data[start_ind: end_ind], lowcut, highcut, fs, order=5)\n",
    "    return y"
   ]
  },
  {
   "cell_type": "code",
   "execution_count": 6,
   "id": "6f6752b2",
   "metadata": {},
   "outputs": [],
   "source": [
    "#getting label of each cycles\n",
    "def get_label(crackle, wheeze):\n",
    "    if crackle == 0 and wheeze == 0:\n",
    "        return 0\n",
    "    elif crackle == 1 and wheeze == 0:\n",
    "        return 1\n",
    "    elif crackle == 0 and wheeze == 1:\n",
    "        return 2\n",
    "    else:\n",
    "        return 3"
   ]
  },
  {
   "cell_type": "code",
   "execution_count": 7,
   "id": "b0ac64e5",
   "metadata": {},
   "outputs": [],
   "source": [
    "#getting breath cycle samples\n",
    "def get_sound_samples(file_name, data_dir, sample_rate):\n",
    "    sample_data = [file_name]\n",
    "    data, rate = librosa.load(os.path.join(data_dir, file_name+'.wav'), sr=sample_rate)\n",
    "    recording_annotations=pd.read_csv(data_dir+file_name+'.txt', sep='\\t', header=None)\n",
    "    \n",
    "    for i in range(len(recording_annotations.index)):\n",
    "        row = recording_annotations.loc[i]\n",
    "        start = row[0]\n",
    "        end = row[1]\n",
    "        crackles = row[2]\n",
    "        wheezes = row[3]\n",
    "        audio_chunk = slice_data(start, end, data, rate)\n",
    "        sample_data.append((audio_chunk, start,end, get_label(crackles, wheezes)))\n",
    "    return sample_data"
   ]
  },
  {
   "cell_type": "code",
   "execution_count": 8,
   "id": "7bbe05e3",
   "metadata": {
    "scrolled": true
   },
   "outputs": [
    {
     "name": "stderr",
     "output_type": "stream",
     "text": [
      "\r",
      "0it [00:00, ?it/s]"
     ]
    },
    {
     "name": "stdout",
     "output_type": "stream",
     "text": [
      "136_1b1_Ar_sc_Meditron going on 0 out of 10\n"
     ]
    },
    {
     "name": "stderr",
     "output_type": "stream",
     "text": [
      "5it [00:03,  2.06it/s]"
     ]
    },
    {
     "name": "stdout",
     "output_type": "stream",
     "text": [
      "139_1b1_Al_sc_Litt3200 going on 1 out of 10\n",
      "139_1b1_Ar_sc_Litt3200 going on 2 out of 10\n",
      "139_1b1_Ll_sc_Litt3200 going on 3 out of 10\n",
      "139_1b1_Lr_sc_Litt3200 going on 4 out of 10\n",
      "139_1b1_Pl_sc_Litt3200 going on 5 out of 10\n",
      "139_1b1_Pr_sc_Litt3200 going on 6 out of 10\n",
      "143_1b1_Al_sc_Meditron going on 7 out of 10\n"
     ]
    },
    {
     "name": "stderr",
     "output_type": "stream",
     "text": [
      "\r",
      "8it [00:04,  2.59it/s]"
     ]
    },
    {
     "name": "stdout",
     "output_type": "stream",
     "text": [
      "144_1b1_Al_sc_Meditron going on 8 out of 10\n",
      "144_1b1_Tc_sc_Meditron going on 9 out of 10\n"
     ]
    },
    {
     "name": "stderr",
     "output_type": "stream",
     "text": [
      "10it [00:05,  1.78it/s]\n"
     ]
    }
   ],
   "source": [
    "#creating list of breath cycles with respective labels\n",
    "filenames=audio_train['Filename']\n",
    "filenames_with_labels=[]\n",
    "cycle_list = []\n",
    "classwise_cycle_list = []\n",
    "for idx, filename in tqdm(enumerate(filenames)):\n",
    "            file_name=filename.split('.')[0]\n",
    "            print(file_name+\" going on \"+str(idx)+\" out of \"+str(len(filenames)))\n",
    "            data = get_sound_samples(file_name, data_dir, sample_rate)\n",
    "            cycles_with_labels = [(d[0], d[3], file_name, cycle_idx, 0) for cycle_idx, d in enumerate(data[1:])]\n",
    "            cycle_list.extend(cycles_with_labels)\n",
    "            for cycle_idx, d in enumerate(cycles_with_labels):\n",
    "                filenames_with_labels.append(file_name+'_'+str(d[3])+'_'+str(d[1]))\n",
    "                classwise_cycle_list.append((d[0],d[1]))"
   ]
  },
  {
   "cell_type": "code",
   "execution_count": 9,
   "id": "13afc972",
   "metadata": {},
   "outputs": [
    {
     "data": {
      "text/plain": [
       "0"
      ]
     },
     "execution_count": 9,
     "metadata": {},
     "output_type": "execute_result"
    }
   ],
   "source": [
    "cycle_list[0][3]"
   ]
  },
  {
   "cell_type": "code",
   "execution_count": 11,
   "id": "30b58ccb",
   "metadata": {},
   "outputs": [
    {
     "data": {
      "text/plain": [
       "(257, 331)"
      ]
     },
     "execution_count": 11,
     "metadata": {},
     "output_type": "execute_result"
    }
   ],
   "source": [
    "largest_stft=librosa.stft(cycle_list[id][0], n_fft=512, hop_length = 64)\n",
    "largest_stft.shape"
   ]
  },
  {
   "cell_type": "code",
   "execution_count": 12,
   "id": "6969991e",
   "metadata": {},
   "outputs": [],
   "source": [
    "def padding(array, xx, yy):\n",
    "    \"\"\"\n",
    "    :param array: numpy array\n",
    "    :param xx: desired height\n",
    "    :param yy: desired width\n",
    "    :return: padded array\n",
    "    \"\"\"\n",
    "    h = array.shape[0]\n",
    "    w = array.shape[1]\n",
    "    a = max((xx - h) // 2,0)\n",
    "    aa = max(0,xx - a - h)\n",
    "    b = max(0,(yy - w) // 2)\n",
    "    bb = max(yy - b - w,0)\n",
    "    return np.pad(array, pad_width=((a, aa), (b, bb)), mode='constant')"
   ]
  },
  {
   "cell_type": "code",
   "execution_count": 13,
   "id": "a9a4aa28",
   "metadata": {
    "scrolled": true
   },
   "outputs": [
    {
     "name": "stdout",
     "output_type": "stream",
     "text": [
      "0 out of 93\n",
      "1 out of 93\n",
      "2 out of 93\n",
      "3 out of 93\n",
      "4 out of 93\n",
      "5 out of 93\n",
      "6 out of 93\n",
      "7 out of 93\n",
      "8 out of 93\n",
      "9 out of 93\n",
      "10 out of 93\n",
      "11 out of 93\n",
      "12 out of 93\n",
      "13 out of 93\n",
      "14 out of 93\n",
      "15 out of 93\n",
      "16 out of 93\n",
      "17 out of 93\n",
      "18 out of 93\n",
      "19 out of 93\n",
      "20 out of 93\n",
      "21 out of 93\n",
      "22 out of 93\n",
      "23 out of 93\n",
      "24 out of 93\n",
      "25 out of 93\n",
      "26 out of 93\n",
      "27 out of 93\n",
      "28 out of 93\n",
      "29 out of 93\n",
      "30 out of 93\n",
      "31 out of 93\n",
      "32 out of 93\n",
      "33 out of 93\n",
      "34 out of 93\n",
      "35 out of 93\n",
      "36 out of 93\n",
      "37 out of 93\n",
      "38 out of 93\n",
      "39 out of 93\n",
      "40 out of 93\n",
      "41 out of 93\n",
      "42 out of 93\n",
      "43 out of 93\n",
      "44 out of 93\n",
      "45 out of 93\n",
      "46 out of 93\n",
      "47 out of 93\n",
      "48 out of 93\n",
      "49 out of 93\n",
      "50 out of 93\n",
      "51 out of 93\n",
      "52 out of 93\n",
      "53 out of 93\n",
      "54 out of 93\n",
      "55 out of 93\n",
      "56 out of 93\n",
      "57 out of 93\n",
      "58 out of 93\n",
      "59 out of 93\n",
      "60 out of 93\n",
      "61 out of 93\n",
      "62 out of 93\n",
      "63 out of 93\n",
      "64 out of 93\n",
      "65 out of 93\n",
      "66 out of 93\n",
      "67 out of 93\n",
      "68 out of 93\n",
      "69 out of 93\n",
      "70 out of 93\n",
      "71 out of 93\n",
      "72 out of 93\n",
      "73 out of 93\n",
      "74 out of 93\n",
      "75 out of 93\n",
      "76 out of 93\n",
      "77 out of 93\n",
      "78 out of 93\n",
      "79 out of 93\n",
      "80 out of 93\n",
      "81 out of 93\n",
      "82 out of 93\n",
      "83 out of 93\n",
      "84 out of 93\n",
      "85 out of 93\n",
      "86 out of 93\n",
      "87 out of 93\n",
      "88 out of 93\n",
      "89 out of 93\n",
      "90 out of 93\n",
      "91 out of 93\n",
      "92 out of 93\n",
      "(257, 94) (6000,)\n",
      "(257, 1011)\n"
     ]
    }
   ],
   "source": [
    "## creating sliced and padded data = audio_data\n",
    "stft_data=[]\n",
    "for idx, sample in enumerate(cycle_list):\n",
    "            print(str(idx)+\" out of \"+str(len(cycle_list)))\n",
    "            stft=librosa.stft(sample[0], n_fft=512, hop_length = 64)\n",
    "            stft_data.append(padding(stft, 257, 1011))\n",
    "\n",
    "print(stft.shape, sample[0].shape)\n",
    "print(stft_data[4].shape)"
   ]
  },
  {
   "cell_type": "code",
   "execution_count": null,
   "id": "2bc1b0a1",
   "metadata": {},
   "outputs": [],
   "source": [
    "stft_data[0]"
   ]
  },
  {
   "cell_type": "code",
   "execution_count": null,
   "id": "1f4ab68c",
   "metadata": {},
   "outputs": [],
   "source": [
    "largest=0\n",
    "file=\"\"\n",
    "cycle_id=0\n",
    "id=0\n",
    "for i in range(2756):\n",
    "    if largest<stft_data[i][0].shape[0]:\n",
    "        largest=stft_data[i][0].shape[0]\n",
    "        file=cycle_list[i][2]\n",
    "        cycle_id=cycle_list[i][3]\n",
    "        id=i\n",
    "    print(i)\n",
    "print(largest, file, cycle_id, id)"
   ]
  },
  {
   "cell_type": "code",
   "execution_count": 2,
   "id": "59d032d0",
   "metadata": {},
   "outputs": [
    {
     "ename": "NameError",
     "evalue": "name 'stft_data' is not defined",
     "output_type": "error",
     "traceback": [
      "\u001b[1;31m---------------------------------------------------------------------------\u001b[0m",
      "\u001b[1;31mNameError\u001b[0m                                 Traceback (most recent call last)",
      "\u001b[1;32m~\\AppData\\Local\\Temp/ipykernel_15728/3033656960.py\u001b[0m in \u001b[0;36m<module>\u001b[1;34m\u001b[0m\n\u001b[0;32m      1\u001b[0m \u001b[0mtrain_dataset\u001b[0m\u001b[1;33m=\u001b[0m\u001b[1;33m[\u001b[0m\u001b[1;33m]\u001b[0m\u001b[1;33m\u001b[0m\u001b[1;33m\u001b[0m\u001b[0m\n\u001b[1;32m----> 2\u001b[1;33m \u001b[1;32mfor\u001b[0m \u001b[0mindex\u001b[0m \u001b[1;32min\u001b[0m \u001b[0mrange\u001b[0m\u001b[1;33m(\u001b[0m\u001b[0mlen\u001b[0m\u001b[1;33m(\u001b[0m\u001b[0mstft_data\u001b[0m\u001b[1;33m)\u001b[0m\u001b[1;33m)\u001b[0m\u001b[1;33m:\u001b[0m\u001b[1;33m\u001b[0m\u001b[1;33m\u001b[0m\u001b[0m\n\u001b[0m\u001b[0;32m      3\u001b[0m     \u001b[0mstft\u001b[0m\u001b[1;33m=\u001b[0m\u001b[0mstft_data\u001b[0m\u001b[1;33m[\u001b[0m\u001b[0mindex\u001b[0m\u001b[1;33m]\u001b[0m\u001b[1;33m\u001b[0m\u001b[1;33m\u001b[0m\u001b[0m\n\u001b[0;32m      4\u001b[0m     \u001b[0mlabel\u001b[0m \u001b[1;33m=\u001b[0m \u001b[0mclasswise_cycle_list\u001b[0m\u001b[1;33m[\u001b[0m\u001b[0mindex\u001b[0m\u001b[1;33m]\u001b[0m\u001b[1;33m[\u001b[0m\u001b[1;36m1\u001b[0m\u001b[1;33m]\u001b[0m\u001b[1;33m\u001b[0m\u001b[1;33m\u001b[0m\u001b[0m\n\u001b[0;32m      5\u001b[0m     \u001b[0mtrain_dataset\u001b[0m\u001b[1;33m.\u001b[0m\u001b[0mappend\u001b[0m\u001b[1;33m(\u001b[0m\u001b[1;33m(\u001b[0m\u001b[0mstft\u001b[0m\u001b[1;33m,\u001b[0m \u001b[0mlabel\u001b[0m\u001b[1;33m)\u001b[0m\u001b[1;33m)\u001b[0m\u001b[1;33m\u001b[0m\u001b[1;33m\u001b[0m\u001b[0m\n",
      "\u001b[1;31mNameError\u001b[0m: name 'stft_data' is not defined"
     ]
    }
   ],
   "source": [
    "train_dataset=[]\n",
    "for index in range(len(stft_data)):\n",
    "    stft=stft_data[index]\n",
    "    label = classwise_cycle_list[index][1]\n",
    "    train_dataset.append((stft, label))"
   ]
  },
  {
   "cell_type": "code",
   "execution_count": 1,
   "id": "b4f8d450",
   "metadata": {},
   "outputs": [
    {
     "ename": "NameError",
     "evalue": "name 'train_dataset' is not defined",
     "output_type": "error",
     "traceback": [
      "\u001b[1;31m---------------------------------------------------------------------------\u001b[0m",
      "\u001b[1;31mNameError\u001b[0m                                 Traceback (most recent call last)",
      "\u001b[1;32m~\\AppData\\Local\\Temp/ipykernel_15728/4196647438.py\u001b[0m in \u001b[0;36m<module>\u001b[1;34m\u001b[0m\n\u001b[0;32m      1\u001b[0m \u001b[0mX_train\u001b[0m\u001b[1;33m=\u001b[0m\u001b[1;33m[\u001b[0m\u001b[1;33m]\u001b[0m\u001b[1;33m\u001b[0m\u001b[1;33m\u001b[0m\u001b[0m\n\u001b[0;32m      2\u001b[0m \u001b[0my_train\u001b[0m\u001b[1;33m=\u001b[0m\u001b[1;33m[\u001b[0m\u001b[1;33m]\u001b[0m\u001b[1;33m\u001b[0m\u001b[1;33m\u001b[0m\u001b[0m\n\u001b[1;32m----> 3\u001b[1;33m \u001b[1;32mfor\u001b[0m \u001b[0mi\u001b[0m \u001b[1;32min\u001b[0m \u001b[0mrange\u001b[0m\u001b[1;33m(\u001b[0m\u001b[0mlen\u001b[0m\u001b[1;33m(\u001b[0m\u001b[0mtrain_dataset\u001b[0m\u001b[1;33m)\u001b[0m\u001b[1;33m)\u001b[0m\u001b[1;33m:\u001b[0m\u001b[1;33m\u001b[0m\u001b[1;33m\u001b[0m\u001b[0m\n\u001b[0m\u001b[0;32m      4\u001b[0m     \u001b[0mX_train\u001b[0m\u001b[1;33m.\u001b[0m\u001b[0mappend\u001b[0m\u001b[1;33m(\u001b[0m\u001b[0mtrain_dataset\u001b[0m\u001b[1;33m[\u001b[0m\u001b[0mi\u001b[0m\u001b[1;33m]\u001b[0m\u001b[1;33m[\u001b[0m\u001b[1;36m0\u001b[0m\u001b[1;33m]\u001b[0m\u001b[1;33m)\u001b[0m\u001b[1;33m\u001b[0m\u001b[1;33m\u001b[0m\u001b[0m\n\u001b[0;32m      5\u001b[0m     \u001b[0my_train\u001b[0m\u001b[1;33m.\u001b[0m\u001b[0mappend\u001b[0m\u001b[1;33m(\u001b[0m\u001b[0mtrain_dataset\u001b[0m\u001b[1;33m[\u001b[0m\u001b[0mi\u001b[0m\u001b[1;33m]\u001b[0m\u001b[1;33m[\u001b[0m\u001b[1;36m1\u001b[0m\u001b[1;33m]\u001b[0m\u001b[1;33m)\u001b[0m\u001b[1;33m\u001b[0m\u001b[1;33m\u001b[0m\u001b[0m\n",
      "\u001b[1;31mNameError\u001b[0m: name 'train_dataset' is not defined"
     ]
    }
   ],
   "source": [
    "X_train=[]\n",
    "y_train=[]\n",
    "for i in range(len(train_dataset)):\n",
    "    X_train.append(train_dataset[i][0])\n",
    "    y_train.append(train_dataset[i][1])  \n",
    "    \n",
    "np.save('X_train_STFT_small', np.concatenate(X_train, axis=0).reshape(len(train_dataset), 257, 1011, 1))\n",
    "#np.save('X_test_STFT_small', X_train)\n",
    "np.save('y_train_STFT_small', y_train)"
   ]
  }
 ],
 "metadata": {
  "kernelspec": {
   "display_name": "Python 3 (ipykernel)",
   "language": "python",
   "name": "python3"
  },
  "language_info": {
   "codemirror_mode": {
    "name": "ipython",
    "version": 3
   },
   "file_extension": ".py",
   "mimetype": "text/x-python",
   "name": "python",
   "nbconvert_exporter": "python",
   "pygments_lexer": "ipython3",
   "version": "3.9.7"
  }
 },
 "nbformat": 4,
 "nbformat_minor": 5
}
